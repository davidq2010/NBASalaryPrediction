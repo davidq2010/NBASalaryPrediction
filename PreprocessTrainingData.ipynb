{
 "cells": [
  {
   "cell_type": "code",
   "execution_count": 119,
   "metadata": {},
   "outputs": [],
   "source": [
    "import pandas as pd\n",
    "import os\n",
    "import csv\n",
    "import re\n",
    "import matplotlib.pyplot as plt"
   ]
  },
  {
   "cell_type": "markdown",
   "metadata": {},
   "source": [
    "# Preprocess Merged Data"
   ]
  },
  {
   "cell_type": "code",
   "execution_count": 83,
   "metadata": {},
   "outputs": [],
   "source": [
    "src_dir = os.getcwd()\n",
    "data_dir = os.path.join(src_dir, \"Data\")"
   ]
  },
  {
   "cell_type": "code",
   "execution_count": 98,
   "metadata": {},
   "outputs": [],
   "source": [
    "merged_data_file = os.path.join(data_dir, \"nba_stats_sal_merged_1990_2017.csv\")\n",
    "merged_data = pd.read_csv(merged_data_file)"
   ]
  },
  {
   "cell_type": "code",
   "execution_count": 85,
   "metadata": {},
   "outputs": [
    {
     "name": "stdout",
     "output_type": "stream",
     "text": [
      "       Season End             Player Pos  Age   Tm  BLK  TOV   PF   PTS  \\\n",
      "0            1990         Mark Acres   C   27  ORL   25   70  248   362   \n",
      "1            1990      Michael Adams  PG   27  DEN    3  141  133  1221   \n",
      "2            1990       Mark Aguirre  SF   30  DET   19  121  201  1099   \n",
      "3            1990        Danny Ainge  PG   30  SAC   18  185  238  1342   \n",
      "4            1990        Mark Alarie  PF   26  WSB   39  101  219   860   \n",
      "10639        2017        Cody Zeller  PF   24  CHO   58   65  189   639   \n",
      "10640        2017       Tyler Zeller   C   27  BOS   21   20   61   178   \n",
      "10641        2017  Stephen Zimmerman   C   20  ORL    5    3   17    23   \n",
      "10642        2017        Paul Zipser  SF   22  CHI   16   40   78   240   \n",
      "10643        2017        Ivica Zubac   C   19  LAL   33   30   66   284   \n",
      "\n",
      "         Salary  \n",
      "0        437000  \n",
      "1        825000  \n",
      "2       1115000  \n",
      "3        725000  \n",
      "4        500000  \n",
      "10639  12584270  \n",
      "10640   1709538  \n",
      "10641   1312611  \n",
      "10642   1312611  \n",
      "10643   1312611  \n"
     ]
    }
   ],
   "source": [
    "print(merged_data.iloc[list(range(5)) + list(range(-5, 0)), \n",
    "                   list(range(5)) + list(range(-5, 0))])"
   ]
  },
  {
   "cell_type": "markdown",
   "metadata": {},
   "source": [
    "## Preprocessing Steps\n",
    "- Already took care of null data (when reading from original CSVs and merging)\n",
    "- Try different normalization, standardization techniques and see effect on performance\n",
    "- The only categorical variable to be encoded is Position; not using Team unfortunately b/c a) teams have changed and b) some players played for multiple teams, and thus have TOT as their team. Note that this variable is not ordinal, it's nominal. Also, beware multicollinearity.\n",
    "- Split data by year, do scaling on separate DataFrames, then concatenate.\n",
    "- Write different scaled data to different CSVs."
   ]
  },
  {
   "cell_type": "markdown",
   "metadata": {},
   "source": [
    "## Generating Salary Tiers"
   ]
  },
  {
   "cell_type": "code",
   "execution_count": 132,
   "metadata": {},
   "outputs": [],
   "source": [
    "num_tiers = 5"
   ]
  },
  {
   "cell_type": "markdown",
   "metadata": {},
   "source": [
    "### Compute Max Salaries Per Year"
   ]
  },
  {
   "cell_type": "code",
   "execution_count": 133,
   "metadata": {},
   "outputs": [],
   "source": [
    "# Dict of rows grouped by Season End\n",
    "salary_maxes = merged_data.groupby('Season End')['Salary'].max().to_dict()"
   ]
  },
  {
   "cell_type": "markdown",
   "metadata": {},
   "source": [
    "### Append Player Salary Tier in New Column"
   ]
  },
  {
   "cell_type": "code",
   "execution_count": 134,
   "metadata": {},
   "outputs": [],
   "source": [
    "player_tiers = []\n",
    "for index, row in merged_data[['Season End', 'Salary']].iterrows():\n",
    "    # +1 so we have num_tiers tiers (so the max falls in the highest tier)\n",
    "    player_tiers.append(int(row['Salary'] / (salary_maxes[row['Season End']]+1) * num_tiers))"
   ]
  },
  {
   "cell_type": "code",
   "execution_count": 135,
   "metadata": {},
   "outputs": [],
   "source": [
    "if not 'Salary Tier' in merged_data.columns: \n",
    "    merged_data.insert(len(merged_data.columns), 'Salary Tier', pd.Series(player_tiers))\n",
    "else:\n",
    "    merged_data['Salary Tier'] = pd.Series(player_tiers)"
   ]
  },
  {
   "cell_type": "code",
   "execution_count": 136,
   "metadata": {},
   "outputs": [
    {
     "name": "stdout",
     "output_type": "stream",
     "text": [
      "       Season End             Player Pos  Age   Tm  TOV   PF   PTS    Salary  \\\n",
      "0            1990         Mark Acres   C   27  ORL   70  248   362    437000   \n",
      "1            1990      Michael Adams  PG   27  DEN  141  133  1221    825000   \n",
      "2            1990       Mark Aguirre  SF   30  DET  121  201  1099   1115000   \n",
      "3            1990        Danny Ainge  PG   30  SAC  185  238  1342    725000   \n",
      "4            1990        Mark Alarie  PF   26  WSB  101  219   860    500000   \n",
      "10639        2017        Cody Zeller  PF   24  CHO   65  189   639  12584270   \n",
      "10640        2017       Tyler Zeller   C   27  BOS   20   61   178   1709538   \n",
      "10641        2017  Stephen Zimmerman   C   20  ORL    3   17    23   1312611   \n",
      "10642        2017        Paul Zipser  SF   22  CHI   40   78   240   1312611   \n",
      "10643        2017        Ivica Zubac   C   19  LAL   30   66   284   1312611   \n",
      "\n",
      "       Salary Tier  \n",
      "0                0  \n",
      "1                0  \n",
      "2                1  \n",
      "3                0  \n",
      "4                0  \n",
      "10639            1  \n",
      "10640            0  \n",
      "10641            0  \n",
      "10642            0  \n",
      "10643            0  \n"
     ]
    }
   ],
   "source": [
    "print(merged_data.iloc[list(range(5)) + list(range(-5, 0)), \n",
    "                   list(range(5)) + list(range(-5, 0))])"
   ]
  },
  {
   "cell_type": "code",
   "execution_count": 141,
   "metadata": {},
   "outputs": [
    {
     "data": {
      "image/png": "[encoded data removed]",
      "text/plain": [
       "<Figure size 1080x360 with 2 Axes>"
      ]
     },
     "metadata": {
      "needs_background": "light"
     },
     "output_type": "display_data"
    }
   ],
   "source": [
    "fig, (ax1, ax2) = plt.subplots(1, 2)\n",
    "fig.set_size_inches(15, 5)\n",
    "merged_data['Salary Tier'].plot.hist(ax=ax1, bins=num_tiers, xticks=[0, 1, 2, 3, 4])\n",
    "ax1.set_xlabel(\"Salary Tiers\")\n",
    "merged_data.groupby('Season End')['Salary'].mean().sort_index().plot.bar(ax=ax2)\n",
    "ax2.set_xlabel(\"Year\")\n",
    "ax2.set_ylabel(\"Mean Salary\")\n",
    "plt.show()"
   ]
  }
 ],
 "metadata": {
  "kernelspec": {
   "display_name": "Python 3",
   "language": "python",
   "name": "python3"
  },
  "language_info": {
   "codemirror_mode": {
    "name": "ipython",
    "version": 3
   },
   "file_extension": ".py",
   "mimetype": "text/x-python",
   "name": "python",
   "nbconvert_exporter": "python",
   "pygments_lexer": "ipython3",
   "version": "3.7.0"
  }
 },
 "nbformat": 4,
 "nbformat_minor": 4
}

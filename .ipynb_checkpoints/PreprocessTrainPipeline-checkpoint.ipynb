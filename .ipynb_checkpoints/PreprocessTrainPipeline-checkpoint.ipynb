{
 "cells": [
  {
   "cell_type": "code",
   "execution_count": 3,
   "metadata": {},
   "outputs": [],
   "source": [
    "import pandas as pd\n",
    "import numpy as np\n",
    "import os\n",
    "import csv\n",
    "import re\n",
    "import matplotlib.pyplot as plt\n",
    "\n",
    "from typing import Type, Union, List\n",
    "\n",
    "from sklearn.base import BaseEstimator, TransformerMixin\n",
    "from sklearn.compose import ColumnTransformer\n",
    "from sklearn.model_selection import train_test_split\n",
    "from sklearn.preprocessing import OneHotEncoder\n",
    "from sklearn.pipeline import Pipeline as skPipeline"
   ]
  },
  {
   "cell_type": "markdown",
   "metadata": {},
   "source": [
    "# The Pipeline\n",
    "1. Read formatted data as DF\n",
    "2. Add salary tiers to DF\n",
    "3. Retain desired subset of features and remove rest from DF\n",
    "4. Split data into train/test\n",
    "5. Determine transformations for data (numerical/categorical)\n",
    "6. Map numerical/categorical transformations to appropriate features using ColumnTransformer\n",
    "7. Add transformations to a sklearn Pipeline\n",
    "8. Add a predictive model to the same Pipeline\n",
    "9. Fit model on training data\n",
    "10. Cross-validate\n",
    "11. Score on test data"
   ]
  },
  {
   "cell_type": "code",
   "execution_count": 4,
   "metadata": {},
   "outputs": [],
   "source": [
    "debug = True\n",
    "src_dir = os.getcwd()\n",
    "data_dir = os.path.join(src_dir, \"Data\")"
   ]
  },
  {
   "cell_type": "code",
   "execution_count": 5,
   "metadata": {},
   "outputs": [],
   "source": [
    "merged_data_file = os.path.join(data_dir, \"nba_stats_sal_merged_1990_2017.csv\")\n",
    "merged_data = pd.read_csv(merged_data_file)"
   ]
  },
  {
   "cell_type": "code",
   "execution_count": 6,
   "metadata": {},
   "outputs": [
    {
     "name": "stdout",
     "output_type": "stream",
     "text": [
      "Input Data:\n",
      "       Season End             Player Pos  Age   Tm  BLK  TOV   PF   PTS  \\\n",
      "0            1990         Mark Acres   C   27  ORL   25   70  248   362   \n",
      "1            1990      Michael Adams  PG   27  DEN    3  141  133  1221   \n",
      "2            1990       Mark Aguirre  SF   30  DET   19  121  201  1099   \n",
      "3            1990        Danny Ainge  PG   30  SAC   18  185  238  1342   \n",
      "4            1990        Mark Alarie  PF   26  WSB   39  101  219   860   \n",
      "10639        2017        Cody Zeller  PF   24  CHO   58   65  189   639   \n",
      "10640        2017       Tyler Zeller   C   27  BOS   21   20   61   178   \n",
      "10641        2017  Stephen Zimmerman   C   20  ORL    5    3   17    23   \n",
      "10642        2017        Paul Zipser  SF   22  CHI   16   40   78   240   \n",
      "10643        2017        Ivica Zubac   C   19  LAL   33   30   66   284   \n",
      "\n",
      "         Salary  \n",
      "0        437000  \n",
      "1        825000  \n",
      "2       1115000  \n",
      "3        725000  \n",
      "4        500000  \n",
      "10639  12584270  \n",
      "10640   1709538  \n",
      "10641   1312611  \n",
      "10642   1312611  \n",
      "10643   1312611  \n"
     ]
    }
   ],
   "source": [
    "if debug: \n",
    "    print(\"Input Data:\")\n",
    "    print(merged_data.iloc[list(range(5)) + list(range(-5, 0)), \n",
    "                   list(range(5)) + list(range(-5, 0))])"
   ]
  },
  {
   "cell_type": "markdown",
   "metadata": {},
   "source": [
    "## Preprocessing Steps\n",
    "- Already took care of null data (when reading from original CSVs and merging)\n",
    "- Try different normalization, standardization techniques and see effect on performance\n",
    "- The only categorical variable to be encoded is Position; not using Team unfortunately b/c a) teams have changed and b) some players played for multiple teams, and thus have TOT as their team. Note that this variable is not ordinal, it's nominal. Also, beware multicollinearity.\n",
    "- Split data by year, do scaling on separate DataFrames, then concatenate.\n",
    "- Write different scaled data to different CSVs."
   ]
  },
  {
   "cell_type": "markdown",
   "metadata": {},
   "source": [
    "## Generating Salary Tiers"
   ]
  },
  {
   "cell_type": "code",
   "execution_count": 7,
   "metadata": {},
   "outputs": [],
   "source": [
    "num_tiers = 10"
   ]
  },
  {
   "cell_type": "code",
   "execution_count": 8,
   "metadata": {},
   "outputs": [],
   "source": [
    "def add_salary_tiers(num_tiers: int, merged_data: pd.DataFrame):\n",
    "    # Compute max salaries per year\n",
    "    salary_maxes = merged_data.groupby('Season End')['Salary'].max().to_dict()\n",
    "    # Append salary tiers per player in a new column\n",
    "    player_tiers = []\n",
    "    for index, row in merged_data[['Season End', 'Salary']].iterrows():\n",
    "        # +1 so we have num_tiers tiers (so the max falls in the highest tier)\n",
    "        player_tiers.append(int(row['Salary'] / (salary_maxes[row['Season End']]+1) * num_tiers))\n",
    "    if not 'Salary Tier' in merged_data.columns: \n",
    "        merged_data.insert(len(merged_data.columns), 'Salary Tier', pd.Series(player_tiers))\n",
    "    else:\n",
    "        merged_data['Salary Tier'] = pd.Series(player_tiers)"
   ]
  },
  {
   "cell_type": "code",
   "execution_count": 9,
   "metadata": {},
   "outputs": [
    {
     "name": "stdout",
     "output_type": "stream",
     "text": [
      "Merged With Salary Tier:\n",
      "       Season End             Player Pos  Age   Tm  TOV   PF   PTS    Salary  \\\n",
      "0            1990         Mark Acres   C   27  ORL   70  248   362    437000   \n",
      "1            1990      Michael Adams  PG   27  DEN  141  133  1221    825000   \n",
      "2            1990       Mark Aguirre  SF   30  DET  121  201  1099   1115000   \n",
      "3            1990        Danny Ainge  PG   30  SAC  185  238  1342    725000   \n",
      "4            1990        Mark Alarie  PF   26  WSB  101  219   860    500000   \n",
      "10639        2017        Cody Zeller  PF   24  CHO   65  189   639  12584270   \n",
      "10640        2017       Tyler Zeller   C   27  BOS   20   61   178   1709538   \n",
      "10641        2017  Stephen Zimmerman   C   20  ORL    3   17    23   1312611   \n",
      "10642        2017        Paul Zipser  SF   22  CHI   40   78   240   1312611   \n",
      "10643        2017        Ivica Zubac   C   19  LAL   30   66   284   1312611   \n",
      "\n",
      "       Salary Tier  \n",
      "0                1  \n",
      "1                1  \n",
      "2                2  \n",
      "3                1  \n",
      "4                1  \n",
      "10639            3  \n",
      "10640            0  \n",
      "10641            0  \n",
      "10642            0  \n",
      "10643            0  \n"
     ]
    }
   ],
   "source": [
    "add_salary_tiers(num_tiers, merged_data)\n",
    "if debug: \n",
    "    print(\"Merged With Salary Tier:\")\n",
    "    print(merged_data.iloc[list(range(5)) + list(range(-5, 0)), \n",
    "                   list(range(5)) + list(range(-5, 0))])"
   ]
  },
  {
   "cell_type": "code",
   "execution_count": 10,
   "metadata": {},
   "outputs": [
    {
     "data": {
      "image/png": "[encoded data removed]",
      "text/plain": [
       "<Figure size 1080x360 with 2 Axes>"
      ]
     },
     "metadata": {
      "needs_background": "light"
     },
     "output_type": "display_data"
    }
   ],
   "source": [
    "def plot_salary_info(merged_sal_tier: pd.DataFrame):\n",
    "    fig, (ax1, ax2) = plt.subplots(1, 2)\n",
    "    fig.set_size_inches(15, 5)\n",
    "    merged_data['Salary Tier'].plot.hist(ax=ax1, bins=num_tiers, xticks=list(range(num_tiers)))\n",
    "    ax1.set_xlabel(\"Salary Tiers\")\n",
    "    merged_data.groupby('Season End')['Salary'].mean().sort_index().plot.bar(ax=ax2)\n",
    "    ax2.set_xlabel(\"Year\")\n",
    "    ax2.set_ylabel(\"Mean Salary\")\n",
    "    plt.show()\n",
    "\n",
    "if debug: plot_salary_info(merged_data)"
   ]
  },
  {
   "cell_type": "code",
   "execution_count": 11,
   "metadata": {},
   "outputs": [],
   "source": [
    "# Export data"
   ]
  },
  {
   "cell_type": "markdown",
   "metadata": {},
   "source": [
    "# Scikit-learn Pipeline"
   ]
  },
  {
   "cell_type": "markdown",
   "metadata": {},
   "source": [
    "## 80/20 Train-Test Split"
   ]
  },
  {
   "cell_type": "code",
   "execution_count": 12,
   "metadata": {},
   "outputs": [
    {
     "name": "stdout",
     "output_type": "stream",
     "text": [
      "Merged w_sal columns:\n",
      " Index(['Season End', 'Player', 'Pos', 'Age', 'Tm', 'G', 'GS', 'MP', 'PER',\n",
      "       'TS%', '3PAr', 'FTr', 'ORB%', 'DRB%', 'TRB%', 'AST%', 'STL%', 'BLK%',\n",
      "       'TOV%', 'USG%', 'OWS', 'DWS', 'WS', 'WS/48', 'OBPM', 'DBPM', 'BPM',\n",
      "       'VORP', 'FG', 'FGA', 'FG%', '3P', '3PA', '3P%', '2P', '2PA', '2P%',\n",
      "       'eFG%', 'FT', 'FTA', 'FT%', 'ORB', 'DRB', 'TRB', 'AST', 'STL', 'BLK',\n",
      "       'TOV', 'PF', 'PTS', 'Salary', 'Salary Tier'],\n",
      "      dtype='object')\n"
     ]
    }
   ],
   "source": [
    "if debug: print(\"Merged w_sal columns:\\n\", merged_data.columns)"
   ]
  },
  {
   "cell_type": "code",
   "execution_count": 13,
   "metadata": {},
   "outputs": [],
   "source": [
    "def construct_final_df(merged_w_sal: pd.DataFrame, to_omit: List[str]):\n",
    "    # Check that to_omit contains valid features\n",
    "    if all(feature in merged_w_sal.columns for feature in to_omit):\n",
    "        return merged_w_sal[[feature for feature in merged_w_sal.columns if not feature in to_omit]]\n",
    "    else:\n",
    "        raise ValueError(\"to_omit must contain valid features\")"
   ]
  },
  {
   "cell_type": "code",
   "execution_count": 14,
   "metadata": {},
   "outputs": [
    {
     "data": {
      "text/plain": [
       "\"\\nmerged_data_final = construct_final_df(merged_data_final, \\n                                       [\\n                                        'Pos',\\n                                        'Age', \\n                                        'G', \\n                                        #'GS', \\n                                        'MP',\\n                                        #'PER',\\n                                        #'TS%',\\n                                        #'3PAr', \\n                                        #'FTr', \\n                                        #'ORB%', \\n                                        #'DRB%',\\n                                        'TRB%',\\n                                        #'AST%',\\n                                        #'STL%',\\n                                        #'BLK%',\\n                                        'TOV%',\\n                                        #'USG%',\\n                                        #'OWS',\\n                                        #'DWS',\\n                                        'WS',\\n                                        'WS/48',\\n                                        'OBPM', \\n                                        'DBPM',\\n                                        #'BMP',\\n                                        #'VORP', \\n                                        #'FG', \\n                                        #'FGA',\\n                                        'FG%',\\n                                        #'3P', \\n                                        #'3PA', \\n                                        '3P%', \\n                                        #'2P', \\n                                        #'2PA', \\n                                        '2P%',\\n                                        #'eFG%',\\n                                        #'FT',\\n                                        #'FTA', \\n                                        'FT%',\\n                                        #'ORB', \\n                                        #'DRB',\\n                                        'TRB',\\n                                        #'AST',\\n                                        #'STL',\\n                                        #'BLK',\\n                                        'TOV',\\n                                        #'PTS',\\n                                        'PF'\\n                                       ])\\n\""
      ]
     },
     "execution_count": 14,
     "metadata": {},
     "output_type": "execute_result"
    }
   ],
   "source": [
    "merged_data_final = construct_final_df(merged_data, ['Player', 'Tm', 'Salary'])\n",
    "# TODO: Call something to make merged_data_final put categorical stuff first (or last)!!!\n",
    "\"\"\"\n",
    "merged_data_final = construct_final_df(merged_data_final, \n",
    "                                       [\n",
    "                                        'Pos',\n",
    "                                        'Age', \n",
    "                                        'G', \n",
    "                                        #'GS', \n",
    "                                        'MP',\n",
    "                                        #'PER',\n",
    "                                        #'TS%',\n",
    "                                        #'3PAr', \n",
    "                                        #'FTr', \n",
    "                                        #'ORB%', \n",
    "                                        #'DRB%',\n",
    "                                        'TRB%',\n",
    "                                        #'AST%',\n",
    "                                        #'STL%',\n",
    "                                        #'BLK%',\n",
    "                                        'TOV%',\n",
    "                                        #'USG%',\n",
    "                                        #'OWS',\n",
    "                                        #'DWS',\n",
    "                                        'WS',\n",
    "                                        'WS/48',\n",
    "                                        'OBPM', \n",
    "                                        'DBPM',\n",
    "                                        #'BMP',\n",
    "                                        #'VORP', \n",
    "                                        #'FG', \n",
    "                                        #'FGA',\n",
    "                                        'FG%',\n",
    "                                        #'3P', \n",
    "                                        #'3PA', \n",
    "                                        '3P%', \n",
    "                                        #'2P', \n",
    "                                        #'2PA', \n",
    "                                        '2P%',\n",
    "                                        #'eFG%',\n",
    "                                        #'FT',\n",
    "                                        #'FTA', \n",
    "                                        'FT%',\n",
    "                                        #'ORB', \n",
    "                                        #'DRB',\n",
    "                                        'TRB',\n",
    "                                        #'AST',\n",
    "                                        #'STL',\n",
    "                                        #'BLK',\n",
    "                                        'TOV',\n",
    "                                        #'PTS',\n",
    "                                        'PF'\n",
    "                                       ])\n",
    "\"\"\""
   ]
  },
  {
   "cell_type": "code",
   "execution_count": 15,
   "metadata": {},
   "outputs": [],
   "source": [
    "from imblearn.over_sampling import SMOTE\n",
    "from imblearn.pipeline import Pipeline as imbPipeline"
   ]
  },
  {
   "cell_type": "code",
   "execution_count": 16,
   "metadata": {},
   "outputs": [
    {
     "name": "stdout",
     "output_type": "stream",
     "text": [
      "X_train shape: (8515, 48) | y_train shape: (8515,)\n",
      "X_test shape: (2129, 48) | y_test shape: (2129,)\n"
     ]
    }
   ],
   "source": [
    "y = merged_data_final.pop('Salary Tier')\n",
    "X_train, X_test, y_train, y_test = train_test_split(merged_data_final, y, test_size=0.2)\n",
    "if debug: \n",
    "    print(\"X_train shape: {} | y_train shape: {}\".format(X_train.shape, y_train.shape))\n",
    "    print(\"X_test shape: {} | y_test shape: {}\".format(X_test.shape, y_test.shape))"
   ]
  },
  {
   "cell_type": "markdown",
   "metadata": {},
   "source": [
    "## DO SOME FEATURE SELECTION HERE"
   ]
  },
  {
   "cell_type": "markdown",
   "metadata": {},
   "source": [
    "## One Hot Encoding of Pos and Multicollinearity\n",
    "We see that we don't need to worry about multicollinearity from these values."
   ]
  },
  {
   "cell_type": "code",
   "execution_count": 17,
   "metadata": {},
   "outputs": [
    {
     "name": "stdout",
     "output_type": "stream",
     "text": [
      "PF       1796\n",
      "C        1758\n",
      "PG       1680\n",
      "SG       1642\n",
      "SF       1515\n",
      "PG-SG      21\n",
      "SG-SF      19\n",
      "SF-SG      18\n",
      "PF-C       16\n",
      "C-PF       14\n",
      "SG-PG      14\n",
      "SF-PF      11\n",
      "PF-SF       8\n",
      "SG-PF       2\n",
      "PG-SF       1\n",
      "Name: Pos, dtype: int64\n"
     ]
    }
   ],
   "source": [
    "if debug: \n",
    "    if 'Pos' in X_train.columns:\n",
    "        print(X_train['Pos'].value_counts())"
   ]
  },
  {
   "cell_type": "code",
   "execution_count": 18,
   "metadata": {},
   "outputs": [],
   "source": [
    "# For reference, note that Transformers don't like 1D numpy arrays\n",
    "#ohe = OneHotEncoder(sparse=False)\n",
    "#print(ohe.fit_transform(X_train['Pos'].values.reshape(-1, 1)).shape)"
   ]
  },
  {
   "cell_type": "markdown",
   "metadata": {},
   "source": [
    "### Categorical Transformation Pipeline\n",
    "We will use a ColumnTransformer to fit transformations in parallel rather than run `cat_pipe.fit_transform(cat_Xtrain)` and `num_pipe.fit_transform(num_Xtrain)` ourselves sequentially."
   ]
  },
  {
   "cell_type": "code",
   "execution_count": 19,
   "metadata": {},
   "outputs": [],
   "source": [
    "# TransformerMixin: Need to implem fit and transform, we get fit_transform which invokes both\n",
    "# BaseEstimator: We get get_params and set_params\n",
    "class YearlyScaler(BaseEstimator, TransformerMixin):\n",
    "    \"\"\"\n",
    "    Performs a Scaler Transform on the input DataFrame by year (groupby split-apply-combine strategy).\n",
    "    \n",
    "    Parameters\n",
    "    ----------\n",
    "    year_col : The name of the column containing years (to use for splitting)\n",
    "    scaler : Some kind of Transformer\n",
    "    return_df : Return a pd.Dataframe if True\n",
    "    \"\"\"\n",
    "    def __init__(self, year_col: str, scaler: Type[Union[BaseEstimator, TransformerMixin]], \n",
    "                 return_df: bool = False):\n",
    "        # TODO: FOR SOME REASON THESE CAN'T BE MANGLED...\n",
    "        self.scaler = scaler\n",
    "        self.year_col = year_col\n",
    "        self.return_df = return_df\n",
    "    \n",
    "    def fit(self, X: pd.DataFrame, y=None):\n",
    "        \"\"\"\n",
    "        Parameters\n",
    "        ----------\n",
    "        X : DataFrame, shape [n_samples, n_features]\n",
    "            The data to fit.\n",
    "        y : Ignored\n",
    "        \n",
    "        Returns\n",
    "        -------\n",
    "        self: object\n",
    "            Fitted scaler\n",
    "        \"\"\"\n",
    "        # TODO: ...BUT THESE CAN...\n",
    "        # Omit the groupby column\n",
    "        self._columns = [col for col in X.columns.values if col != self.year_col]\n",
    "        \n",
    "        return self\n",
    "    \n",
    "    def transform(self, X: pd.DataFrame) -> Union[pd.DataFrame, np.ndarray]:\n",
    "        \"\"\"\n",
    "        Parameters\n",
    "        ----------\n",
    "        X : DataFrame, shape [n_samples, n_features]\n",
    "            The data used to scale along the features axis.\n",
    "            \n",
    "        Returns\n",
    "        -------\n",
    "        X_tr : array-like, shape [n_samples, n_features]\n",
    "            Transformed array.\n",
    "        \"\"\"\n",
    "        # Apply the self._scaler transform on all the numerical columns grouped by the Year column\n",
    "        # Remove the scaled Year column (iloc[:, 1:] says all rows, ignore 0th column, which is Year)\n",
    "        # Will give us a multi-indexed DF with the years as the 0-level index\n",
    "        X_tr = X[[self.year_col]+self._columns].groupby(self.year_col).apply(\n",
    "            lambda x, scaler=self.scaler: pd.DataFrame(scaler.fit_transform(x)).iloc[:, 1:])\n",
    "        # Drop the year index\n",
    "        X_tr.index = X_tr.index.droplevel(0)\n",
    "        \n",
    "        return X_tr if self.return_df else X_tr.to_numpy()\n",
    "\n",
    "    def get_feature_names(self) -> np.ndarray:\n",
    "        return np.array(self._columns)"
   ]
  },
  {
   "cell_type": "code",
   "execution_count": 20,
   "metadata": {},
   "outputs": [],
   "source": [
    "def construct_transformer(X_train: pd.DataFrame, \n",
    "                          scaler: Type[Union[BaseEstimator, TransformerMixin]],\n",
    "                          year_col: str, n_jobs: int = None) -> ColumnTransformer:\n",
    "    \"\"\"\n",
    "    n_jobs: -1 means use all processors. None means use 1.\n",
    "    \"\"\"\n",
    "    # Get column types\n",
    "    kinds = np.array([dt.kind for dt in X_train.dtypes])\n",
    "    all_columns = X_train.columns.values\n",
    "    is_num = kinds != 'O'\n",
    "    num_cols = all_columns[is_num]\n",
    "    cat_cols = all_columns[~is_num]\n",
    "\n",
    "    # Define labeled categorical transformation steps\n",
    "    # Dense matrix for potential time/space complexity\n",
    "    # When encountering unknown labels (for test transform), ignore them\n",
    "    cat_ohe_step = ('ohe', OneHotEncoder(sparse=False, handle_unknown='ignore')) \n",
    "\n",
    "    # Put the categorical transformations in a Pipeline to be executed sequentially\n",
    "    cat_steps = [cat_ohe_step]\n",
    "    cat_pipe = skPipeline(steps=cat_steps)\n",
    "\n",
    "    # Define labeled numerical transformation steps\n",
    "    num_scale_step = ('scale', YearlyScaler(year_col, scaler()))\n",
    "\n",
    "    # Would do the following if creating a Pipeline to feed to ColumnTransformer\n",
    "    # Put the numerical transformations in a Pipeline also\n",
    "    num_steps = [num_scale_step]\n",
    "    num_pipe = skPipeline(steps=num_steps)\n",
    "\n",
    "    cat_col_transformers = ('cat', cat_pipe, cat_cols)\n",
    "    num_col_transformers = ('num', num_pipe, num_cols)\n",
    "\n",
    "    by_col_transformers = [cat_col_transformers, num_col_transformers]\n",
    "\n",
    "    # Create ColumnTransformer which will apply transformations in parallel where possible\n",
    "    col_transformer = ColumnTransformer(transformers=by_col_transformers, n_jobs=n_jobs)\n",
    "    # We pass the whole training DataFrame because the transformers know which Pipelines\n",
    "    # to apply to which columns (specified in the 'transformers' list)\n",
    "    \n",
    "    return col_transformer"
   ]
  },
  {
   "cell_type": "code",
   "execution_count": 21,
   "metadata": {},
   "outputs": [],
   "source": [
    "class PipelineRFE(imbPipeline):\n",
    "\n",
    "    def fit(self, X, y=None, **fit_params):\n",
    "        super(PipelineRFE, self).fit(X, y, **fit_params)\n",
    "        self.feature_importances_ = self.steps[-1][-1].feature_importances_\n",
    "        return self"
   ]
  },
  {
   "cell_type": "markdown",
   "metadata": {},
   "source": [
    "## Make the following a new notebook"
   ]
  },
  {
   "cell_type": "code",
   "execution_count": 28,
   "metadata": {},
   "outputs": [],
   "source": [
    "# Try different scalers and run this cell\n",
    "from sklearn.preprocessing import MinMaxScaler, StandardScaler\n",
    "\n",
    "from sklearn.ensemble import RandomForestClassifier\n",
    "from sklearn.neural_network import MLPClassifier\n",
    "from sklearn.linear_model import LogisticRegression\n",
    "\n",
    "from sklearn.model_selection import cross_val_score\n",
    "\n",
    "from sklearn.metrics import roc_auc_score, precision_recall_fscore_support\n"
   ]
  },
  {
   "cell_type": "code",
   "execution_count": 23,
   "metadata": {},
   "outputs": [],
   "source": [
    "n_jobs = -1 # All processors"
   ]
  },
  {
   "cell_type": "markdown",
   "metadata": {},
   "source": [
    "The following could be done in a loop but would require writing out all the arguments and storing in a dict or something, not worth it for just 3 classifiers"
   ]
  },
  {
   "cell_type": "code",
   "execution_count": 29,
   "metadata": {},
   "outputs": [
    {
     "name": "stdout",
     "output_type": "stream",
     "text": [
      "Transformed shape: (8515, 61)\n",
      "Estimator rfc\n",
      "[0.34820904 0.32119789 0.33998826 0.32941867 0.34351145]\n",
      "(0.02497787925002842, 'USG%')\n",
      "(0.024630767459949666, 'DWS')\n",
      "(0.024223200853482264, 'FT%')\n",
      "(0.02374551398017362, '2PA')\n",
      "(0.023480011607602335, '3P%')\n",
      "(0.02344880934218935, '3P')\n",
      "(0.023019042963374817, 'x0_PG')\n",
      "(0.023013410648000488, 'OWS')\n",
      "(0.022859395676167987, 'FG%')\n",
      "(0.022857190771703905, 'BPM')\n",
      "(0.022673122878731834, 'VORP')\n",
      "(0.022462238191571587, '2P')\n",
      "(0.02242739011008155, '2P%')\n",
      "(0.022360579403827102, 'DRB')\n",
      "(0.02218812931861647, 'FG')\n",
      "(0.022075167865515003, 'x0_C-PF')\n",
      "(0.021955025826181456, 'FT')\n",
      "(0.021912286365883847, '3PA')\n",
      "(0.021703742669585132, 'x0_SG')\n",
      "(0.021575602687345152, 'WS/48')\n",
      "(0.021359175535926284, 'OBPM')\n",
      "(0.02110107982964966, 'STL')\n",
      "(0.021076456642177503, 'FGA')\n",
      "(0.021063618055124415, 'DBPM')\n",
      "(0.02084000090103393, 'x0_SF-SG')\n",
      "(0.02060250298664952, 'ORB')\n",
      "(0.020537486577350394, 'x0_PF')\n",
      "(0.02046916530831, 'x0_SG-PF')\n",
      "(0.02033058633274977, 'x0_SG-PG')\n",
      "(0.020309148942328346, 'eFG%')\n",
      "(0.01991096978885758, 'FTA')\n",
      "(0.019880168448102618, 'x0_PG-SF')\n",
      "(0.0198136857978331, 'x0_SF-PF')\n",
      "(0.019665993486538254, 'TOV')\n",
      "(0.01924852638172466, 'PF')\n",
      "(0.018998804500289953, 'x0_PF-SF')\n",
      "(0.018667739693594268, 'x0_PF-C')\n",
      "(0.01838343705018994, 'WS')\n",
      "(0.018356773761655544, 'x0_PG-SG')\n",
      "(0.017954673347619857, 'x0_SF')\n",
      "(0.017813049297173856, 'AST')\n",
      "(0.017740177437192514, 'BLK')\n",
      "(0.017567324455352487, 'PTS')\n",
      "(0.01743449229577969, 'x0_C')\n",
      "(0.016764357496228264, 'x0_SG-SF')\n",
      "(0.016620918422095565, 'TRB')\n",
      "(0.008284037211903197, 'GS')\n",
      "(0.008113683660387868, 'Age')\n",
      "(0.00792399708900211, 'TS%')\n",
      "(0.00750775687347811, 'AST%')\n",
      "(0.006566003110767493, 'ORB%')\n",
      "(0.000510820726280469, 'DRB%')\n",
      "(0.00030768863857822825, 'BLK%')\n",
      "(0.00024194843643456966, 'FTr')\n",
      "(0.00023194406769124642, 'TRB%')\n",
      "(9.288319057073561e-05, 'MP')\n",
      "(4.8614910477641433e-05, 'G')\n",
      "(3.337859848831378e-05, 'TOV%')\n",
      "(1.7584242094575343e-05, 'PER')\n",
      "(1.1259613298402662e-05, '3PAr')\n",
      "(9.57898900708651e-06, 'STL%')\n",
      "Score on Test Set: 0.3400657585720996\n",
      "ROC_AUC: 0.5082543046825646\n",
      "Precision, recall, f_score, support:\n",
      "(array([0.44913338, 0.22748815, 0.12935323, 0.04411765, 0.05882353,\n",
      "       0.        , 0.        , 0.        , 0.        , 0.        ]), array([0.61889927, 0.18860511, 0.11453744, 0.01986755, 0.025     ,\n",
      "       0.        , 0.        , 0.        , 0.        , 0.        ]), array([0.52052402, 0.20622986, 0.12149533, 0.02739726, 0.03508772,\n",
      "       0.        , 0.        , 0.        , 0.        , 0.        ]), array([963, 509, 227, 151, 120,  79,  38,  24,  11,   7]))\n",
      "\n",
      "\n",
      "Estimator lgreg\n",
      "[0.06752789 0.08807986 0.07985907 0.07692308 0.08103347]\n",
      "Score on Test Set: 0.08548614372945045\n",
      "ROC_AUC: 0.5206933608192581\n",
      "Precision, recall, f_score, support:\n",
      "(array([0.4017094 , 0.17006803, 0.10457516, 0.07189542, 0.05050505,\n",
      "       0.04081633, 0.02816901, 0.01444043, 0.00325733, 0.        ]), array([0.09761163, 0.04911591, 0.07048458, 0.14569536, 0.08333333,\n",
      "       0.07594937, 0.10526316, 0.16666667, 0.09090909, 0.        ]), array([0.15705931, 0.07621951, 0.08421053, 0.09628009, 0.06289308,\n",
      "       0.05309735, 0.04444444, 0.02657807, 0.00628931, 0.        ]), array([963, 509, 227, 151, 120,  79,  38,  24,  11,   7]))\n",
      "\n",
      "\n"
     ]
    }
   ],
   "source": [
    "scalers = [MinMaxScaler, StandardScaler]\n",
    "estimators = {\n",
    "              'rfc': [RandomForestClassifier(n_jobs=n_jobs)], \n",
    "              'lgreg': [LogisticRegression(max_iter=4000, n_jobs=n_jobs)], \n",
    "              #'mlp': [MLPClassifier(activation='logistic', max_iter=200),\n",
    "              #       MLPClassifier(activation='tanh', max_iter=200)]\n",
    "             }\n",
    "\n",
    "def runEstimatorPipelineAndDisplayMetrics(X_train, y_train, X_test, y_test,\n",
    "                                          scalers: List[Union[BaseEstimator, TransformerMixin]],\n",
    "                                          estimators,\n",
    "                                          over_sampling=False):\n",
    "    \"\"\"\n",
    "    Blah\n",
    "    \"\"\"\n",
    "    for scaler in scalers:\n",
    "        col_transformer = construct_transformer(X_train, scaler, 'Season End', n_jobs)\n",
    "        if debug:\n",
    "            X_train_transformed = col_transformer.fit_transform(X_train)\n",
    "            print(\"Transformed shape:\", X_train_transformed.shape)\n",
    "        for key, vals in estimators.items():\n",
    "            idx = 1 if scaler == StandardScaler and key == 'mlp' else 0\n",
    "            print(\"Estimator\", key)\n",
    "            if over_sampling:\n",
    "                # SMOTE step will be skipped when scoring and predicting\n",
    "                ml_pipe = imbPipeline(steps=[('transform', col_transformer), \n",
    "                                  ('smote', SMOTE('not majority')),\n",
    "                                  ('est', vals[idx])])\n",
    "            else:\n",
    "                ml_pipe = skPipeline(steps[('transform', col_transformer), \n",
    "                                  ('est', vals[idx])])\n",
    "            ml_pipe.fit(X_train, y_train)\n",
    "            \n",
    "            scores = cross_val_score(ml_pipe, X_train, y_train, cv=5)\n",
    "            print(\"5-Fold CV Scores:\")\n",
    "            print(scores)\n",
    "            \n",
    "            transform_steps = ml_pipe.named_steps['transform']\n",
    "            feats = list(transform_steps.named_transformers_['num'].named_steps['scale'].get_feature_names())\n",
    "            if 'cat' in transform_steps.named_transformers_:\n",
    "                feats += list(transform_steps.named_transformers_['cat'].named_steps['ohe'].get_feature_names())\n",
    "            if key == 'rfc':\n",
    "                importances = ml_pipe.named_steps['est'].feature_importances_\n",
    "                print(\"Sorted Features and Importances:\")\n",
    "                for feature in sorted(zip(importances, feats), reverse=True):\n",
    "                    print(feature)\n",
    "                \n",
    "            print(\"Score on Test Set:\", ml_pipe.score(X_test, y_test))\n",
    "            print(\"ROC_AUC:\", roc_auc_score(y_test, ml_pipe.predict_proba(X_test), \n",
    "                                            average='weighted', multi_class='ovo'))\n",
    "            print(\"Precision, recall, f_score, support:\")\n",
    "            print(precision_recall_fscore_support(y_test, ml_pipe.predict(X_test)))\n",
    "            print('\\n')\n",
    "\n",
    "runEstimatorPipelineAndDisplayMetrics(X_train, y_train, X_test, y_test, scalers, estimators, True)"
   ]
  }
 ],
 "metadata": {
  "kernelspec": {
   "display_name": "Python 3",
   "language": "python",
   "name": "python3"
  },
  "language_info": {
   "codemirror_mode": {
    "name": "ipython",
    "version": 3
   },
   "file_extension": ".py",
   "mimetype": "text/x-python",
   "name": "python",
   "nbconvert_exporter": "python",
   "pygments_lexer": "ipython3",
   "version": "3.7.0"
  }
 },
 "nbformat": 4,
 "nbformat_minor": 4
}

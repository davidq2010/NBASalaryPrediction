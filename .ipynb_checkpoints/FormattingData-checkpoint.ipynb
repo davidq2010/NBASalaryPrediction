{
 "cells": [
  {
   "cell_type": "code",
   "execution_count": 1,
   "metadata": {},
   "outputs": [],
   "source": [
    "import pandas as pd\n",
    "import os\n",
    "\n",
    "from typing import Dict"
   ]
  },
  {
   "cell_type": "markdown",
   "metadata": {},
   "source": [
    "# Formatting Original Data"
   ]
  },
  {
   "cell_type": "code",
   "execution_count": 2,
   "metadata": {},
   "outputs": [],
   "source": [
    "src_dir = os.getcwd()\n",
    "data_dir = os.path.join(src_dir, \"Data\")\n",
    "os.makedirs(data_dir, exist_ok=True)  # Make directory if it doesn't exist"
   ]
  },
  {
   "cell_type": "markdown",
   "metadata": {},
   "source": [
    "## nba-players-stats/Seasons_Stats.csv"
   ]
  },
  {
   "cell_type": "code",
   "execution_count": 3,
   "metadata": {},
   "outputs": [],
   "source": [
    "stat_50_17_file = os.path.join(src_dir, \"nba-players-stats/Seasons_Stats.csv\")\n",
    "stat50_17 = pd.read_csv(stat_50_17_file, index_col=0)"
   ]
  },
  {
   "cell_type": "code",
   "execution_count": 4,
   "metadata": {},
   "outputs": [],
   "source": [
    "def format_stats_50_17(stat50_17: pd.DataFrame, type_conv: Dict) -> pd.DataFrame:\n",
    "    \"\"\"\n",
    "    Formats 1950-2017 stats file. Note that this function modifies stat50_17 to save memory.\n",
    "    In:\n",
    "        stat50_17: DataFrame from 1950-2017 stats file; modified in-place to save memory.\n",
    "        type_conv: Dict containing column names to convert to int.\n",
    "    Return:\n",
    "        Formatted 1991-2017 stats DataFrame.\n",
    "    \"\"\"\n",
    "    # Drop rows prior to 1990 (our salary data is from 1991 onwards)\n",
    "    stat50_17.drop(stat50_17[stat50_17[\"Year\"] < 1990].index, inplace=True)\n",
    "    # Drop NA columns\n",
    "    stat50_17.dropna(axis=1, how='all', inplace=True)\n",
    "    # Drop NA rows\n",
    "    stat50_17.dropna(inplace=True)  # Defaults: axis=0, how='any'\n",
    "    # For players who had multiple teams for a year, keep the TOTAL row\n",
    "    stat50_17.drop_duplicates(subset=[\"Year\", \"Player\"], inplace=True)\n",
    "    # Convert certain cols to int; deep copy here\n",
    "    stat91_17 = stat50_17.astype(type_conv)\n",
    "    # Remove asterisks from HOF players\n",
    "    stat91_17[\"Player\"] = stat91_17[\"Player\"].str.rstrip('*')\n",
    "    # Reset index\n",
    "    stat91_17.reset_index(drop=True, inplace=True) # Drop the old index (rather than adding it as a col)\n",
    "    return stat91_17"
   ]
  },
  {
   "cell_type": "code",
   "execution_count": 5,
   "metadata": {},
   "outputs": [
    {
     "name": "stdout",
     "output_type": "stream",
     "text": [
      "      Year              Player Pos  Age   Tm  STL  BLK  TOV   PF   PTS\n",
      "0     1991  Mahmoud Abdul-Rauf  PG   21  DEN   55    4  110  149   942\n",
      "1     1991          Mark Acres   C   28  ORL   25   25   42  218   285\n",
      "2     1991       Michael Adams  PG   28  DEN  147    6  240  162  1752\n",
      "3     1991        Mark Aguirre  SF   31  DET   47   20  128  209  1104\n",
      "4     1991         Danny Ainge  SG   31  POR   63   13  100  195   890\n",
      "9890  2017      Thaddeus Young  PF   28  IND  114   30   96  135   814\n",
      "9891  2017         Cody Zeller  PF   24  CHO   62   58   65  189   639\n",
      "9892  2017        Tyler Zeller   C   27  BOS    7   21   20   61   178\n",
      "9893  2017         Paul Zipser  SF   22  CHI   15   16   40   78   240\n",
      "9894  2017         Ivica Zubac   C   19  LAL   14   33   30   66   284\n"
     ]
    }
   ],
   "source": [
    "cols_to_int = ['Year', 'Age', 'G', 'GS', 'MP', 'FG', 'FGA', '3P', '3PA', '2P', '2PA', 'FT', 'FTA',\n",
    "              'ORB', 'DRB', 'TRB', 'AST', 'STL', 'BLK', 'TOV', 'PF', 'PTS'] \n",
    "type_conv = dict.fromkeys(cols_to_int, int)\n",
    "stat91_17 = format_stats_50_17(stat50_17, type_conv)\n",
    "# Show first and last 5 rows and columns\n",
    "# iloc[row_idx_list, col_idx_list]\n",
    "print(stat91_17.iloc[list(range(5)) + list(range(-5, 0)), \n",
    "                   list(range(5)) + list(range(-5, 0))])"
   ]
  },
  {
   "cell_type": "markdown",
   "metadata": {},
   "source": [
    "## nba17-18"
   ]
  },
  {
   "cell_type": "code",
   "execution_count": 6,
   "metadata": {
    "scrolled": true
   },
   "outputs": [],
   "source": [
    "stats_18_a_file = os.path.join(src_dir, \"nba17-18/nba.csv\")\n",
    "stats_18_b_file = os.path.join(src_dir, \"nba17-18/nba_extra.csv\")\n",
    "# Merge on the intersection of column names and union the two DataFrames\n",
    "stat18 = pd.merge(pd.read_csv(stats_18_a_file, index_col=0), \n",
    "                  pd.read_csv(stats_18_b_file, index_col=0), how=\"outer\")"
   ]
  },
  {
   "cell_type": "code",
   "execution_count": 7,
   "metadata": {},
   "outputs": [],
   "source": [
    "def format_stats_18(stat18: pd.DataFrame) -> pd.DataFrame:\n",
    "    \"\"\"\n",
    "    Formats 2018 stats file. Note that this function modifies stat18 to save memory.\n",
    "    This function could make stat18 an out parameter, but we return a value for consistency.\n",
    "    In:\n",
    "        stat18: DataFrame from 2018 stats file; modified in-place to save memory.\n",
    "    Return:\n",
    "        Formatted 2018 stats DataFrame.\n",
    "    \"\"\"\n",
    "    # Drop NA columns\n",
    "    stat18.dropna(axis=1, how='all', inplace=True)\n",
    "    # Drop NA rows\n",
    "    stat18.dropna(inplace=True)  # Defaults: axis=0, how='any'\n",
    "    # Add Year column\n",
    "    if not \"Year\" in stat18.columns: stat18.insert(0, \"Year\", 2018)\n",
    "    # For players who had multiple teams for a year, keep the TOTAL row\n",
    "    stat18.drop_duplicates(subset=[\"Year\", \"Player\"], inplace=True)\n",
    "    # Reorder columns; reindex doesn't do in-place and requires returning stat18 \n",
    "    if stat18.columns.get_loc('G')+1 != stat18.columns.get_loc('GS'):\n",
    "        gs = stat18.pop(\"GS\")\n",
    "        stat18.insert(stat18.columns.get_loc('G')+1, \"GS\", gs)\n",
    "    # Remove name encoding appended to name (escaped backslash)\n",
    "    stat18[\"Player\"] = stat18[\"Player\"].str.replace(r'\\\\(.*)', '')\n",
    "    # Reset index\n",
    "    stat18.reset_index(drop=True, inplace=True) # Drop the old index (rather than adding it as a col)\n",
    "    return stat18"
   ]
  },
  {
   "cell_type": "code",
   "execution_count": 8,
   "metadata": {},
   "outputs": [
    {
     "name": "stdout",
     "output_type": "stream",
     "text": [
      "     Year          Player Pos  Age   Tm  STL  BLK  TOV   PF   PTS\n",
      "0    2018    Alex Abrines  SG   24  OKC   38    8   25  124   353\n",
      "1    2018      Quincy Acy  PF   27  BRK   33   29   60  149   411\n",
      "2    2018    Steven Adams   C   24  OKC   92   78  128  215  1056\n",
      "3    2018     Bam Adebayo   C   20  MIA   32   41   66  138   477\n",
      "4    2018   Arron Afflalo  SG   32  ORL    4    9   21   56   179\n",
      "461  2018  Thaddeus Young  PF   29  IND  135   36  105  175   955\n",
      "462  2018     Cody Zeller   C   25  CHO   14   21   33   81   233\n",
      "463  2018    Tyler Zeller   C   28  TOT   15   35   47  126   441\n",
      "464  2018     Paul Zipser  SF   23  CHI   20   15   43   86   218\n",
      "465  2018     Ivica Zubac   C   20  LAL    8   15   26   47   161\n"
     ]
    }
   ],
   "source": [
    "stat18 = format_stats_18(stat18)\n",
    "# Show first and last 5 rows and columns\n",
    "# iloc[row_idx_list, col_idx_list]\n",
    "print(stat18.iloc[list(range(5)) + list(range(-5, 0)), \n",
    "                   list(range(5)) + list(range(-5, 0))])"
   ]
  },
  {
   "cell_type": "markdown",
   "metadata": {},
   "source": [
    "## Combine Stats Data and Export CSV"
   ]
  },
  {
   "cell_type": "code",
   "execution_count": 9,
   "metadata": {},
   "outputs": [
    {
     "name": "stdout",
     "output_type": "stream",
     "text": [
      "     Season End              Player Pos  Age   Tm  STL  BLK  TOV   PF   PTS\n",
      "0          1991  Mahmoud Abdul-Rauf  PG   21  DEN   55    4  110  149   942\n",
      "1          1991          Mark Acres   C   28  ORL   25   25   42  218   285\n",
      "2          1991       Michael Adams  PG   28  DEN  147    6  240  162  1752\n",
      "3          1991        Mark Aguirre  SF   31  DET   47   20  128  209  1104\n",
      "4          1991         Danny Ainge  SG   31  POR   63   13  100  195   890\n",
      "461        2018      Thaddeus Young  PF   29  IND  135   36  105  175   955\n",
      "462        2018         Cody Zeller   C   25  CHO   14   21   33   81   233\n",
      "463        2018        Tyler Zeller   C   28  TOT   15   35   47  126   441\n",
      "464        2018         Paul Zipser  SF   23  CHI   20   15   43   86   218\n",
      "465        2018         Ivica Zubac   C   20  LAL    8   15   26   47   161\n"
     ]
    }
   ],
   "source": [
    "stat91_18 = pd.concat([stat91_17, stat18]) # No need to use any join args b/c cols are the same\n",
    "# Rename Year col to Season End for clarity\n",
    "stat91_18.rename(columns={\"Year\": \"Season End\"}, inplace=True) \n",
    "print(stat91_18.iloc[list(range(5)) + list(range(-5, 0)), \n",
    "                   list(range(5)) + list(range(-5, 0))])"
   ]
  },
  {
   "cell_type": "code",
   "execution_count": 10,
   "metadata": {},
   "outputs": [],
   "source": [
    "out_stats_name = \"nba_stats_1991_2018.csv\"\n",
    "out_stats_path = os.path.join(data_dir, out_stats_name)"
   ]
  },
  {
   "cell_type": "code",
   "execution_count": 11,
   "metadata": {},
   "outputs": [],
   "source": [
    "if not os.path.isfile(out_stats_path): stat91_18.to_csv(out_stats_path, index=False)"
   ]
  },
  {
   "cell_type": "markdown",
   "metadata": {},
   "source": [
    "## Salaries Per Season (1990-2017)"
   ]
  },
  {
   "cell_type": "code",
   "execution_count": 12,
   "metadata": {},
   "outputs": [],
   "source": [
    "sal91_18_file = os.path.join(src_dir, \"nba-player-salary-19902017/Player - Salaries per Year (1990 - 2017).csv\")\n",
    "sal91_18 = pd.read_csv(sal91_18_file)"
   ]
  },
  {
   "cell_type": "code",
   "execution_count": 13,
   "metadata": {},
   "outputs": [],
   "source": [
    "def format_sal(sal91_18: pd.DataFrame) -> pd.DataFrame:\n",
    "    \"\"\"\n",
    "    Formats 1991-2018 salaries file. Note that this function modifies sal91_18 to save memory.\n",
    "    In:\n",
    "        sal91_18: DataFrame from 1991-2018 salaries file; modified in-place to save memory.\n",
    "    Return:\n",
    "        Formatted salaries DataFrame.\n",
    "    \"\"\"\n",
    "    # Remove \"Register Value, Team, Full Team Name\" columns\n",
    "    if \"Register Value\" in sal91_18.columns: sal91_18.pop(\"Register Value\")\n",
    "    if \"Team\" in sal91_18.columns: sal91_18.pop(\"Team\")\n",
    "    if \"Full Team Name\" in sal91_18.columns: sal91_18.pop(\"Full Team Name\")\n",
    "    return sal91_18"
   ]
  },
  {
   "cell_type": "code",
   "execution_count": 14,
   "metadata": {},
   "outputs": [
    {
     "name": "stdout",
     "output_type": "stream",
     "text": [
      "  Player Name     Salary in $   Season Start  Season End\n",
      "0  A.C. Green   $1,750,000.00           1990        1991\n",
      "1  A.C. Green   $1,750,000.00           1991        1992\n",
      "2  A.C. Green   $1,750,000.00           1992        1993\n",
      "3  A.C. Green   $1,885,000.00           1993        1994\n",
      "4  A.C. Green   $6,472,600.00           1994        1995\n",
      "              Player Name      Salary in $   Season Start  Season End\n",
      "11832  Zydrunas Ilgauskas    $8,740,000.00           2005        2006\n",
      "11833  Zydrunas Ilgauskas    $9,442,697.00           2006        2007\n",
      "11834  Zydrunas Ilgauskas   $10,142,156.00           2007        2008\n",
      "11835  Zydrunas Ilgauskas   $10,841,615.00           2008        2009\n",
      "11836  Zydrunas Ilgauskas   $11,541,074.00           2009        2010\n"
     ]
    }
   ],
   "source": [
    "sal91_18 = format_sal(sal91_18)\n",
    "print(sal91_18.head())\n",
    "print(sal91_18.tail())"
   ]
  },
  {
   "cell_type": "code",
   "execution_count": 15,
   "metadata": {},
   "outputs": [],
   "source": [
    "out_sal_name = \"nba_salaries_1991_2018.csv\"\n",
    "out_sal_path = os.path.join(data_dir, out_sal_name)"
   ]
  },
  {
   "cell_type": "code",
   "execution_count": 16,
   "metadata": {},
   "outputs": [],
   "source": [
    "if not os.path.isfile(out_sal_path): sal91_18.to_csv(out_sal_path, index=False)"
   ]
  },
  {
   "cell_type": "markdown",
   "metadata": {},
   "source": [
    "## Matching Salary Data to Player Data by Year"
   ]
  },
  {
   "cell_type": "code",
   "execution_count": 18,
   "metadata": {},
   "outputs": [],
   "source": [
    "sal91_18_form_file = os.path.join(data_dir, \"nba_salaries_1991_2018.csv\")\n",
    "sal91_18_form = pd.read_csv(sal91_18_form_file)\n",
    "stat91_18_form_file = os.path.join(data_dir, \"nba_stats_1991_2018.csv\")\n",
    "stat91_18_form = pd.read_csv(stat91_18_form_file)"
   ]
  },
  {
   "cell_type": "code",
   "execution_count": null,
   "metadata": {},
   "outputs": [],
   "source": []
  }
 ],
 "metadata": {
  "kernelspec": {
   "display_name": "Python 3",
   "language": "python",
   "name": "python3"
  },
  "language_info": {
   "codemirror_mode": {
    "name": "ipython",
    "version": 3
   },
   "file_extension": ".py",
   "mimetype": "text/x-python",
   "name": "python",
   "nbconvert_exporter": "python",
   "pygments_lexer": "ipython3",
   "version": "3.7.0"
  }
 },
 "nbformat": 4,
 "nbformat_minor": 4
}

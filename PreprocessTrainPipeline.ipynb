{
 "cells": [
  {
   "cell_type": "code",
   "execution_count": 1,
   "metadata": {},
   "outputs": [],
   "source": [
    "import pandas as pd\n",
    "import numpy as np\n",
    "import os\n",
    "import csv\n",
    "import re\n",
    "import matplotlib.pyplot as plt\n",
    "\n",
    "from typing import Type, Union, List, Dict\n",
    "\n",
    "from sklearn.base import BaseEstimator, TransformerMixin\n",
    "from sklearn.compose import ColumnTransformer\n",
    "from sklearn.model_selection import train_test_split\n",
    "from sklearn.preprocessing import OneHotEncoder\n",
    "from sklearn.pipeline import Pipeline as skPipeline"
   ]
  },
  {
   "cell_type": "markdown",
   "metadata": {},
   "source": [
    "# The Pipeline\n",
    "1. Read formatted data as DF\n",
    "2. Add salary tiers to DF\n",
    "3. Retain desired subset of features and remove rest from DF\n",
    "4. Split data into train/test\n",
    "5. Determine transformations for data (numerical/categorical)\n",
    "6. Map numerical/categorical transformations to appropriate features using ColumnTransformer\n",
    "7. Add transformations to a sklearn Pipeline\n",
    "8. Add a predictive model to the same Pipeline\n",
    "9. Fit model on training data\n",
    "10. Cross-validate\n",
    "11. Score on test data"
   ]
  },
  {
   "cell_type": "code",
   "execution_count": 2,
   "metadata": {},
   "outputs": [],
   "source": [
    "debug = True\n",
    "src_dir = os.getcwd()\n",
    "data_dir = os.path.join(src_dir, \"Data\")"
   ]
  },
  {
   "cell_type": "code",
   "execution_count": 3,
   "metadata": {},
   "outputs": [],
   "source": [
    "merged_data_file = os.path.join(data_dir, \"nba_stats_sal_merged_1990_2017.csv\")\n",
    "merged_data = pd.read_csv(merged_data_file)"
   ]
  },
  {
   "cell_type": "code",
   "execution_count": 4,
   "metadata": {},
   "outputs": [
    {
     "name": "stdout",
     "output_type": "stream",
     "text": [
      "Input Data:\n",
      "       Season End             Player Pos  Age   Tm  BLK  TOV   PF   PTS  \\\n",
      "0            1990         Mark Acres   C   27  ORL   25   70  248   362   \n",
      "1            1990      Michael Adams  PG   27  DEN    3  141  133  1221   \n",
      "2            1990       Mark Aguirre  SF   30  DET   19  121  201  1099   \n",
      "3            1990        Danny Ainge  PG   30  SAC   18  185  238  1342   \n",
      "4            1990        Mark Alarie  PF   26  WSB   39  101  219   860   \n",
      "10580        2017        Cody Zeller  PF   24  CHO   58   65  189   639   \n",
      "10581        2017       Tyler Zeller   C   27  BOS   21   20   61   178   \n",
      "10582        2017  Stephen Zimmerman   C   20  ORL    5    3   17    23   \n",
      "10583        2017        Paul Zipser  SF   22  CHI   16   40   78   240   \n",
      "10584        2017        Ivica Zubac   C   19  LAL   33   30   66   284   \n",
      "\n",
      "         Salary  \n",
      "0        437000  \n",
      "1        825000  \n",
      "2       1115000  \n",
      "3        725000  \n",
      "4        500000  \n",
      "10580  12584270  \n",
      "10581   1709538  \n",
      "10582   1312611  \n",
      "10583   1312611  \n",
      "10584   1312611  \n"
     ]
    }
   ],
   "source": [
    "if debug: \n",
    "    print(\"Input Data:\")\n",
    "    print(merged_data.iloc[list(range(5)) + list(range(-5, 0)), \n",
    "                   list(range(5)) + list(range(-5, 0))])"
   ]
  },
  {
   "cell_type": "markdown",
   "metadata": {},
   "source": [
    "## Preprocessing Steps\n",
    "- Already took care of null data (when reading from original CSVs and merging)\n",
    "- Try different normalization, standardization techniques and see effect on performance\n",
    "- The only categorical variable to be encoded is Position; not using Team unfortunately b/c a) teams have changed and b) some players played for multiple teams, and thus have TOT as their team. Note that this variable is not ordinal, it's nominal. Also, beware multicollinearity.\n",
    "- Split data by year, do scaling on separate DataFrames, then concatenate.\n",
    "- Write different scaled data to different CSVs."
   ]
  },
  {
   "cell_type": "markdown",
   "metadata": {},
   "source": [
    "## Generating Salary Tiers"
   ]
  },
  {
   "cell_type": "code",
   "execution_count": 5,
   "metadata": {},
   "outputs": [],
   "source": [
    "num_tiers = 10"
   ]
  },
  {
   "cell_type": "code",
   "execution_count": 6,
   "metadata": {},
   "outputs": [],
   "source": [
    "def add_salary_tiers(num_tiers: int, merged_data: pd.DataFrame):\n",
    "    # Compute max salaries per year\n",
    "    salary_maxes = merged_data.groupby('Season End')['Salary'].max().to_dict()\n",
    "    # Append salary tiers per player in a new column\n",
    "    player_tiers = []\n",
    "    for index, row in merged_data[['Season End', 'Salary']].iterrows():\n",
    "        # +1 so we have num_tiers tiers (so the max falls in the highest tier)\n",
    "        player_tiers.append(int(row['Salary'] / (salary_maxes[row['Season End']]+1) * num_tiers))\n",
    "    if not 'Salary Tier' in merged_data.columns: \n",
    "        merged_data.insert(len(merged_data.columns), 'Salary Tier', pd.Series(player_tiers))\n",
    "    else:\n",
    "        merged_data['Salary Tier'] = pd.Series(player_tiers)"
   ]
  },
  {
   "cell_type": "code",
   "execution_count": 7,
   "metadata": {},
   "outputs": [
    {
     "name": "stdout",
     "output_type": "stream",
     "text": [
      "Merged With Salary Tier:\n",
      "       Season End             Player Pos  Age   Tm  TOV   PF   PTS    Salary  \\\n",
      "0            1990         Mark Acres   C   27  ORL   70  248   362    437000   \n",
      "1            1990      Michael Adams  PG   27  DEN  141  133  1221    825000   \n",
      "2            1990       Mark Aguirre  SF   30  DET  121  201  1099   1115000   \n",
      "3            1990        Danny Ainge  PG   30  SAC  185  238  1342    725000   \n",
      "4            1990        Mark Alarie  PF   26  WSB  101  219   860    500000   \n",
      "10580        2017        Cody Zeller  PF   24  CHO   65  189   639  12584270   \n",
      "10581        2017       Tyler Zeller   C   27  BOS   20   61   178   1709538   \n",
      "10582        2017  Stephen Zimmerman   C   20  ORL    3   17    23   1312611   \n",
      "10583        2017        Paul Zipser  SF   22  CHI   40   78   240   1312611   \n",
      "10584        2017        Ivica Zubac   C   19  LAL   30   66   284   1312611   \n",
      "\n",
      "       Salary Tier  \n",
      "0                1  \n",
      "1                1  \n",
      "2                2  \n",
      "3                1  \n",
      "4                1  \n",
      "10580            3  \n",
      "10581            0  \n",
      "10582            0  \n",
      "10583            0  \n",
      "10584            0  \n"
     ]
    }
   ],
   "source": [
    "add_salary_tiers(num_tiers, merged_data)\n",
    "if debug: \n",
    "    print(\"Merged With Salary Tier:\")\n",
    "    print(merged_data.iloc[list(range(5)) + list(range(-5, 0)), \n",
    "                   list(range(5)) + list(range(-5, 0))])"
   ]
  },
  {
   "cell_type": "code",
   "execution_count": 8,
   "metadata": {},
   "outputs": [
    {
     "data": {
      "image/png": "[encoded data removed]",
      "text/plain": [
       "<Figure size 1080x360 with 4 Axes>"
      ]
     },
     "metadata": {
      "needs_background": "light"
     },
     "output_type": "display_data"
    }
   ],
   "source": [
    "def plot_salary_info(merged_sal_tier: pd.DataFrame):\n",
    "    fig, axs = plt.subplots(2, 2)\n",
    "    fig.set_size_inches(15, 5)\n",
    "    merged_data['Salary Tier'].plot.hist(ax=axs[0, 0], bins=num_tiers, xticks=list(range(num_tiers)))\n",
    "    axs[0, 0].set_xlabel(\"Salary Tiers\")\n",
    "    merged_data.groupby('Season End')['Salary'].mean().sort_index().plot.bar(ax=axs[0, 1])\n",
    "    axs[0, 1].set_xlabel(\"Year\")\n",
    "    axs[0, 1].set_ylabel(\"Mean Salary\")\n",
    "    merged_data.groupby('Season End')['3PA'].sum().sort_index().plot.bar(ax=axs[1, 0])\n",
    "    axs[1, 0].set_xlabel(\"Year\")\n",
    "    axs[1, 0].set_ylabel(\"Total 3PM\")\n",
    "    merged_data.groupby('Season End')['PTS'].sum().sort_index().plot.bar(ax=axs[1, 1])\n",
    "    axs[1, 1].set_xlabel(\"Year\")\n",
    "    axs[1, 1].set_ylabel(\"Total Points\")\n",
    "    plt.show()\n",
    "\n",
    "if debug: plot_salary_info(merged_data)"
   ]
  },
  {
   "cell_type": "code",
   "execution_count": 9,
   "metadata": {},
   "outputs": [],
   "source": [
    "# Export data"
   ]
  },
  {
   "cell_type": "markdown",
   "metadata": {},
   "source": [
    "# Scikit-learn Pipeline"
   ]
  },
  {
   "cell_type": "markdown",
   "metadata": {},
   "source": [
    "## 80/20 Train-Test Split"
   ]
  },
  {
   "cell_type": "code",
   "execution_count": 10,
   "metadata": {},
   "outputs": [
    {
     "name": "stdout",
     "output_type": "stream",
     "text": [
      "Merged w_sal columns:\n",
      " Index(['Season End', 'Player', 'Pos', 'Age', 'Tm', 'G', 'GS', 'MP', 'PER',\n",
      "       'TS%', '3PAr', 'FTr', 'ORB%', 'DRB%', 'TRB%', 'AST%', 'STL%', 'BLK%',\n",
      "       'TOV%', 'USG%', 'OWS', 'DWS', 'WS', 'WS/48', 'OBPM', 'DBPM', 'BPM',\n",
      "       'VORP', 'FG', 'FGA', 'FG%', '3P', '3PA', '3P%', '2P', '2PA', '2P%',\n",
      "       'eFG%', 'FT', 'FTA', 'FT%', 'ORB', 'DRB', 'TRB', 'AST', 'STL', 'BLK',\n",
      "       'TOV', 'PF', 'PTS', 'Salary', 'Salary Tier'],\n",
      "      dtype='object')\n"
     ]
    }
   ],
   "source": [
    "if debug: print(\"Merged w_sal columns:\\n\", merged_data.columns)"
   ]
  },
  {
   "cell_type": "code",
   "execution_count": 11,
   "metadata": {},
   "outputs": [],
   "source": [
    "def construct_final_df(merged_w_sal: pd.DataFrame, to_omit: List[str]):\n",
    "    # Check that to_omit contains valid features\n",
    "    if all(feature in merged_w_sal.columns for feature in to_omit):\n",
    "        return merged_w_sal[[feature for feature in merged_w_sal.columns if not feature in to_omit]]\n",
    "    else:\n",
    "        raise ValueError(\"to_omit must contain valid features\")"
   ]
  },
  {
   "cell_type": "code",
   "execution_count": 12,
   "metadata": {},
   "outputs": [
    {
     "data": {
      "text/plain": [
       "\"\\nmerged_data_final = construct_final_df(merged_data_final, \\n                                       [\\n                                        'Pos',\\n                                        'Age', \\n                                        'G', \\n                                        #'GS', \\n                                        'MP',\\n                                        #'PER',\\n                                        #'TS%',\\n                                        #'3PAr', \\n                                        #'FTr', \\n                                        #'ORB%', \\n                                        #'DRB%',\\n                                        'TRB%',\\n                                        #'AST%',\\n                                        #'STL%',\\n                                        #'BLK%',\\n                                        'TOV%',\\n                                        #'USG%',\\n                                        #'OWS',\\n                                        #'DWS',\\n                                        'WS',\\n                                        'WS/48',\\n                                        'OBPM', \\n                                        'DBPM',\\n                                        #'BMP',\\n                                        #'VORP', \\n                                        #'FG', \\n                                        #'FGA',\\n                                        'FG%',\\n                                        #'3P', \\n                                        #'3PA', \\n                                        '3P%', \\n                                        #'2P', \\n                                        #'2PA', \\n                                        '2P%',\\n                                        #'eFG%',\\n                                        #'FT',\\n                                        #'FTA', \\n                                        'FT%',\\n                                        #'ORB', \\n                                        #'DRB',\\n                                        'TRB',\\n                                        #'AST',\\n                                        #'STL',\\n                                        #'BLK',\\n                                        'TOV',\\n                                        #'PTS',\\n                                        'PF'\\n                                       ])\\n\""
      ]
     },
     "execution_count": 12,
     "metadata": {},
     "output_type": "execute_result"
    }
   ],
   "source": [
    "merged_data_final = construct_final_df(merged_data, ['Player', 'Tm', 'Salary'])\n",
    "# TODO: Call something to make merged_data_final put categorical stuff first (or last)!!!\n",
    "\"\"\"\n",
    "merged_data_final = construct_final_df(merged_data_final, \n",
    "                                       [\n",
    "                                        'Pos',\n",
    "                                        'Age', \n",
    "                                        'G', \n",
    "                                        #'GS', \n",
    "                                        'MP',\n",
    "                                        #'PER',\n",
    "                                        #'TS%',\n",
    "                                        #'3PAr', \n",
    "                                        #'FTr', \n",
    "                                        #'ORB%', \n",
    "                                        #'DRB%',\n",
    "                                        'TRB%',\n",
    "                                        #'AST%',\n",
    "                                        #'STL%',\n",
    "                                        #'BLK%',\n",
    "                                        'TOV%',\n",
    "                                        #'USG%',\n",
    "                                        #'OWS',\n",
    "                                        #'DWS',\n",
    "                                        'WS',\n",
    "                                        'WS/48',\n",
    "                                        'OBPM', \n",
    "                                        'DBPM',\n",
    "                                        #'BMP',\n",
    "                                        #'VORP', \n",
    "                                        #'FG', \n",
    "                                        #'FGA',\n",
    "                                        'FG%',\n",
    "                                        #'3P', \n",
    "                                        #'3PA', \n",
    "                                        '3P%', \n",
    "                                        #'2P', \n",
    "                                        #'2PA', \n",
    "                                        '2P%',\n",
    "                                        #'eFG%',\n",
    "                                        #'FT',\n",
    "                                        #'FTA', \n",
    "                                        'FT%',\n",
    "                                        #'ORB', \n",
    "                                        #'DRB',\n",
    "                                        'TRB',\n",
    "                                        #'AST',\n",
    "                                        #'STL',\n",
    "                                        #'BLK',\n",
    "                                        'TOV',\n",
    "                                        #'PTS',\n",
    "                                        'PF'\n",
    "                                       ])\n",
    "\"\"\""
   ]
  },
  {
   "cell_type": "code",
   "execution_count": 13,
   "metadata": {},
   "outputs": [],
   "source": [
    "from imblearn.over_sampling import SMOTE\n",
    "from imblearn.pipeline import Pipeline as imbPipeline"
   ]
  },
  {
   "cell_type": "code",
   "execution_count": 14,
   "metadata": {},
   "outputs": [
    {
     "name": "stdout",
     "output_type": "stream",
     "text": [
      "X_train shape: (8468, 48) | y_train shape: (8468,)\n",
      "X_test shape: (2117, 48) | y_test shape: (2117,)\n"
     ]
    }
   ],
   "source": [
    "y = merged_data_final.pop('Salary Tier')\n",
    "X_train, X_test, y_train, y_test = train_test_split(merged_data_final, y, test_size=0.2)\n",
    "if debug: \n",
    "    print(\"X_train shape: {} | y_train shape: {}\".format(X_train.shape, y_train.shape))\n",
    "    print(\"X_test shape: {} | y_test shape: {}\".format(X_test.shape, y_test.shape))"
   ]
  },
  {
   "cell_type": "markdown",
   "metadata": {},
   "source": [
    "## DO SOME FEATURE SELECTION HERE"
   ]
  },
  {
   "cell_type": "markdown",
   "metadata": {},
   "source": [
    "## One Hot Encoding of Pos and Multicollinearity\n",
    "We see that we don't need to worry about multicollinearity from these values."
   ]
  },
  {
   "cell_type": "code",
   "execution_count": 15,
   "metadata": {},
   "outputs": [
    {
     "name": "stdout",
     "output_type": "stream",
     "text": [
      "PF       1777\n",
      "C        1731\n",
      "PG       1655\n",
      "SG       1617\n",
      "SF       1569\n",
      "SG-SF      22\n",
      "SF-SG      19\n",
      "C-PF       15\n",
      "PF-C       15\n",
      "SG-PG      13\n",
      "SF-PF      11\n",
      "PG-SG      11\n",
      "PF-SF       9\n",
      "SG-PF       3\n",
      "PG-SF       1\n",
      "Name: Pos, dtype: int64\n"
     ]
    }
   ],
   "source": [
    "if debug: \n",
    "    if 'Pos' in X_train.columns:\n",
    "        print(X_train['Pos'].value_counts())"
   ]
  },
  {
   "cell_type": "code",
   "execution_count": 16,
   "metadata": {},
   "outputs": [],
   "source": [
    "# For reference, note that Transformers don't like 1D numpy arrays\n",
    "#ohe = OneHotEncoder(sparse=False)\n",
    "#print(ohe.fit_transform(X_train['Pos'].values.reshape(-1, 1)).shape)"
   ]
  },
  {
   "cell_type": "markdown",
   "metadata": {},
   "source": [
    "### Categorical Transformation Pipeline\n",
    "We will use a ColumnTransformer to fit transformations in parallel rather than run `cat_pipe.fit_transform(cat_Xtrain)` and `num_pipe.fit_transform(num_Xtrain)` ourselves sequentially."
   ]
  },
  {
   "cell_type": "code",
   "execution_count": 17,
   "metadata": {},
   "outputs": [],
   "source": [
    "# TransformerMixin: Need to implem fit and transform, we get fit_transform which invokes both\n",
    "# BaseEstimator: We get get_params and set_params\n",
    "class YearlyScaler(BaseEstimator, TransformerMixin):\n",
    "    \"\"\"\n",
    "    Performs a Scaler Transform on the input DataFrame by year (groupby split-apply-combine strategy).\n",
    "    \n",
    "    Parameters\n",
    "    ----------\n",
    "    year_col : The name of the column containing years (to use for splitting)\n",
    "    scaler : Some kind of Transformer\n",
    "    return_df : Return a pd.Dataframe if True\n",
    "    \"\"\"\n",
    "    def __init__(self, year_col: str, scaler: Type[Union[BaseEstimator, TransformerMixin]], \n",
    "                 return_df: bool = False):\n",
    "        # TODO: FOR SOME REASON THESE CAN'T BE MANGLED...\n",
    "        self.scaler = scaler\n",
    "        self.year_col = year_col\n",
    "        self.return_df = return_df\n",
    "    \n",
    "    def fit(self, X: pd.DataFrame, y=None):\n",
    "        \"\"\"\n",
    "        Parameters\n",
    "        ----------\n",
    "        X : DataFrame, shape [n_samples, n_features]\n",
    "            The data to fit.\n",
    "        y : Ignored\n",
    "        \n",
    "        Returns\n",
    "        -------\n",
    "        self: object\n",
    "            Fitted scaler\n",
    "        \"\"\"\n",
    "        # TODO: ...BUT THESE CAN...\n",
    "        # Omit the groupby column\n",
    "        self._columns = [col for col in X.columns.values if col != self.year_col]\n",
    "        \n",
    "        return self\n",
    "    \n",
    "    def transform(self, X: pd.DataFrame) -> Union[pd.DataFrame, np.ndarray]:\n",
    "        \"\"\"\n",
    "        Parameters\n",
    "        ----------\n",
    "        X : DataFrame, shape [n_samples, n_features]\n",
    "            The data used to scale along the features axis.\n",
    "            \n",
    "        Returns\n",
    "        -------\n",
    "        X_tr : array-like, shape [n_samples, n_features]\n",
    "            Transformed array.\n",
    "        \"\"\"\n",
    "        # Apply the self._scaler transform on all the numerical columns grouped by the Year column\n",
    "        # Remove the scaled Year column (iloc[:, 1:] says all rows, ignore 0th column, which is Year)\n",
    "        # Will give us a multi-indexed DF with the years as the 0-level index\n",
    "        X_tr = X[[self.year_col]+self._columns].groupby(self.year_col).apply(\n",
    "            lambda x, scaler=self.scaler: pd.DataFrame(scaler.fit_transform(x)).iloc[:, 1:])\n",
    "        # Drop the year index\n",
    "        X_tr.index = X_tr.index.droplevel(0)\n",
    "        \n",
    "        return X_tr if self.return_df else X_tr.to_numpy()\n",
    "\n",
    "    def get_feature_names(self) -> np.ndarray:\n",
    "        return np.array(self._columns)"
   ]
  },
  {
   "cell_type": "code",
   "execution_count": 18,
   "metadata": {},
   "outputs": [],
   "source": [
    "def construct_transformer(X_train: pd.DataFrame, \n",
    "                          scaler: Type[Union[BaseEstimator, TransformerMixin]],\n",
    "                          year_col: str, n_jobs: int = None) -> ColumnTransformer:\n",
    "    \"\"\"\n",
    "    n_jobs: -1 means use all processors. None means use 1.\n",
    "    \"\"\"\n",
    "    # Get column types\n",
    "    kinds = np.array([dt.kind for dt in X_train.dtypes])\n",
    "    all_columns = X_train.columns.values\n",
    "    is_num = kinds != 'O'\n",
    "    num_cols = all_columns[is_num]\n",
    "    cat_cols = all_columns[~is_num]\n",
    "\n",
    "    # Define labeled categorical transformation steps\n",
    "    # Dense matrix for potential time/space complexity\n",
    "    # When encountering unknown labels (for test transform), ignore them\n",
    "    cat_ohe_step = ('ohe', OneHotEncoder(sparse=False, handle_unknown='ignore')) \n",
    "\n",
    "    # Put the categorical transformations in a Pipeline to be executed sequentially\n",
    "    cat_steps = [cat_ohe_step]\n",
    "    cat_pipe = skPipeline(steps=cat_steps)\n",
    "\n",
    "    # Define labeled numerical transformation steps\n",
    "    num_scale_step = ('scale', YearlyScaler(year_col, scaler()))\n",
    "\n",
    "    # Would do the following if creating a Pipeline to feed to ColumnTransformer\n",
    "    # Put the numerical transformations in a Pipeline also\n",
    "    num_steps = [num_scale_step]\n",
    "    num_pipe = skPipeline(steps=num_steps)\n",
    "\n",
    "    cat_col_transformers = ('cat', cat_pipe, cat_cols)\n",
    "    num_col_transformers = ('num', num_pipe, num_cols)\n",
    "\n",
    "    by_col_transformers = [cat_col_transformers, num_col_transformers]\n",
    "\n",
    "    # Create ColumnTransformer which will apply transformations in parallel where possible\n",
    "    col_transformer = ColumnTransformer(transformers=by_col_transformers, n_jobs=n_jobs)\n",
    "    # We pass the whole training DataFrame because the transformers know which Pipelines\n",
    "    # to apply to which columns (specified in the 'transformers' list)\n",
    "    \n",
    "    return col_transformer"
   ]
  },
  {
   "cell_type": "code",
   "execution_count": 19,
   "metadata": {},
   "outputs": [],
   "source": [
    "class PipelineRFE(imbPipeline):\n",
    "\n",
    "    def fit(self, X, y=None, **fit_params):\n",
    "        super(PipelineRFE, self).fit(X, y, **fit_params)\n",
    "        self.feature_importances_ = self.steps[-1][-1].feature_importances_\n",
    "        return self"
   ]
  },
  {
   "cell_type": "markdown",
   "metadata": {},
   "source": [
    "## Make the following a new notebook"
   ]
  },
  {
   "cell_type": "code",
   "execution_count": 20,
   "metadata": {},
   "outputs": [],
   "source": [
    "# Try different scalers and run this cell\n",
    "from sklearn.preprocessing import MinMaxScaler, StandardScaler\n",
    "\n",
    "from sklearn.ensemble import RandomForestClassifier\n",
    "from sklearn.neural_network import MLPClassifier\n",
    "from sklearn.linear_model import LogisticRegression\n",
    "\n",
    "from sklearn.model_selection import cross_val_score\n",
    "\n",
    "from sklearn.metrics import roc_auc_score, precision_recall_fscore_support\n",
    "\n",
    "import pickle"
   ]
  },
  {
   "cell_type": "code",
   "execution_count": 21,
   "metadata": {},
   "outputs": [],
   "source": [
    "n_jobs = -1 # All processors\n",
    "model_dir = os.path.join(src_dir, \"Models\")\n",
    "os.makedirs(model_dir, exist_ok=True)  # Make directory if it doesn't exist"
   ]
  },
  {
   "cell_type": "markdown",
   "metadata": {},
   "source": [
    "The following could be done in a loop but would require writing out all the arguments and storing in a dict or something, not worth it for just 3 classifiers"
   ]
  },
  {
   "cell_type": "code",
   "execution_count": 27,
   "metadata": {},
   "outputs": [],
   "source": [
    "scalers = {\"Normalize\": MinMaxScaler, \"Standardize\": StandardScaler}\n",
    "estimators = {\n",
    "              'rfc': [RandomForestClassifier(n_jobs=n_jobs)], \n",
    "              'lgreg': [LogisticRegression(max_iter=4000, n_jobs=n_jobs)], \n",
    "              'mlp': [MLPClassifier(hidden_layer_sizes=(100, 100, 100), activation='relu', max_iter=400),\n",
    "                     MLPClassifier(hidden_layer_sizes=(100, 100, 100), activation='tanh', max_iter=400)]\n",
    "             }\n",
    "\n",
    "def runEstimatorPipelineAndDisplayMetrics(X_train, y_train, X_test, y_test,\n",
    "                                          scalers: Dict[str, List[Union[BaseEstimator, TransformerMixin]]],\n",
    "                                          estimators,\n",
    "                                          model_dir: str,\n",
    "                                          over_sampling=False):\n",
    "    \"\"\"\n",
    "    Blah\n",
    "    \"\"\"\n",
    "    for scaler_name, scaler in scalers.items():\n",
    "        col_transformer = construct_transformer(X_train, scaler, 'Season End', n_jobs)\n",
    "        if debug:\n",
    "            X_train_transformed = col_transformer.fit_transform(X_train)\n",
    "            print(\"Transformed shape:\", X_train_transformed.shape)\n",
    "        for key, vals in estimators.items():\n",
    "            filename = '{}_{}_SMOTE.sav'.format(key, scaler_name) if over_sampling \\\n",
    "                        else '{}_{}.sav'.format(key, scaler_name)\n",
    "            if os.path.isfile(os.path.join(model_dir, filename)): continue\n",
    "            idx = 1 if scaler == StandardScaler and key == 'mlp' else 0\n",
    "            print(\"Estimator\", key)\n",
    "            if over_sampling:\n",
    "                # SMOTE step will be skipped when scoring and predicting\n",
    "                ml_pipe = imbPipeline(steps=[('transform', col_transformer), \n",
    "                                  ('smote', SMOTE('not majority')),\n",
    "                                  ('est', vals[idx])])\n",
    "            else:\n",
    "                ml_pipe = skPipeline(steps=[('transform', col_transformer), \n",
    "                                  ('est', vals[idx])])\n",
    "            ml_pipe.fit(X_train, y_train)\n",
    "            \n",
    "            pickle.dump(ml_pipe, open(os.path.join(model_dir, filename), 'wb'))\n",
    "            \n",
    "            scores = cross_val_score(ml_pipe, X_train, y_train, cv=5)\n",
    "            print(\"5-Fold CV Scores:\")\n",
    "            print(scores)\n",
    "            \n",
    "            transform_steps = ml_pipe.named_steps['transform']\n",
    "            feats = list(transform_steps.named_transformers_['num'].named_steps['scale'].get_feature_names())\n",
    "            if 'cat' in transform_steps.named_transformers_:\n",
    "                feats += list(transform_steps.named_transformers_['cat'].named_steps['ohe'].get_feature_names())\n",
    "            if key == 'rfc':\n",
    "                importances = ml_pipe.named_steps['est'].feature_importances_\n",
    "                print(\"Sorted Features and Importances:\")\n",
    "                for feature in sorted(zip(importances, feats), reverse=True):\n",
    "                    print(feature)\n",
    "                \n",
    "            print(\"Score on Test Set:\", ml_pipe.score(X_test, y_test))\n",
    "            print(\"ROC_AUC:\", roc_auc_score(y_test, ml_pipe.predict_proba(X_test), \n",
    "                                            average='weighted', multi_class='ovo'))\n",
    "            print(\"Precision, recall, f_score, support:\")\n",
    "            print(precision_recall_fscore_support(y_test, ml_pipe.predict(X_test)))\n",
    "            print('\\n')\n",
    "        "
   ]
  },
  {
   "cell_type": "code",
   "execution_count": 25,
   "metadata": {},
   "outputs": [
    {
     "name": "stdout",
     "output_type": "stream",
     "text": [
      "Transformed shape: (8468, 61)\n",
      "Transformed shape: (8468, 61)\n",
      "Estimator rfc\n",
      "5-Fold CV Scores:\n",
      "[0.34946871 0.33884298 0.34297521 0.35676314 0.35144714]\n",
      "Sorted Features and Importances:\n",
      "(0.025363604435171324, 'USG%')\n",
      "(0.02361403683909345, 'x0_PG')\n",
      "(0.023292500943333384, '3P')\n",
      "(0.023191018627532936, 'PF')\n",
      "(0.02268324680368436, '3P%')\n",
      "(0.022251983826153808, 'BPM')\n",
      "(0.02209157983038484, 'DBPM')\n",
      "(0.022075482677412578, 'VORP')\n",
      "(0.022029439696128784, 'x0_SF-SG')\n",
      "(0.022017468895041078, 'FT%')\n",
      "(0.02184799402871684, 'x0_SG')\n",
      "(0.021780022336684843, 'FG')\n",
      "(0.021777475623987737, 'WS/48')\n",
      "(0.021777309281956328, 'FG%')\n",
      "(0.021661237591565706, 'FGA')\n",
      "(0.02158528169052897, 'FTA')\n",
      "(0.021450177580721524, '2P')\n",
      "(0.02138562759902591, '3PA')\n",
      "(0.021277781170810296, 'DWS')\n",
      "(0.021207768915166035, 'DRB')\n",
      "(0.021013114376954637, '2P%')\n",
      "(0.020924417885811723, 'OBPM')\n",
      "(0.02086815473797895, 'x0_PF')\n",
      "(0.020509335332366478, 'x0_C-PF')\n",
      "(0.020459867242162172, 'BLK')\n",
      "(0.02043810401684176, 'ORB')\n",
      "(0.020162454640433983, '2PA')\n",
      "(0.019984045425691748, 'TOV')\n",
      "(0.01996013002903386, 'FT')\n",
      "(0.019929512484765145, 'x0_SG-PG')\n",
      "(0.019707762600330334, 'x0_PF-C')\n",
      "(0.019682979305153638, 'STL')\n",
      "(0.019548773483421312, 'OWS')\n",
      "(0.01944702886382798, 'x0_SF-PF')\n",
      "(0.019424156106567926, 'eFG%')\n",
      "(0.019309782614888686, 'x0_SG-PF')\n",
      "(0.01927588154794714, 'x0_PG-SF')\n",
      "(0.018581568912158338, 'x0_PF-SF')\n",
      "(0.018542443328301156, 'WS')\n",
      "(0.017995049289466793, 'x0_PG-SG')\n",
      "(0.01787816167664005, 'x0_SF')\n",
      "(0.017118683401382655, 'x0_C')\n",
      "(0.016956109214126415, 'AST')\n",
      "(0.01674278710650115, 'PTS')\n",
      "(0.016642026323357935, 'TRB')\n",
      "(0.01617072166323119, 'x0_SG-SF')\n",
      "(0.012904217953783458, 'Age')\n",
      "(0.011164651920656899, 'TS%')\n",
      "(0.009924861759619116, 'AST%')\n",
      "(0.009469332983830483, 'ORB%')\n",
      "(0.00932186111831679, 'GS')\n",
      "(0.0028579337503116965, 'DRB%')\n",
      "(0.0012557342704295027, 'FTr')\n",
      "(0.0003767638333243031, 'TRB%')\n",
      "(0.0003191940207431278, 'G')\n",
      "(0.00028299678606515506, 'BLK%')\n",
      "(0.00024067123154070564, '3PAr')\n",
      "(0.000176493560257261, 'MP')\n",
      "(3.6511348400172715e-05, 'TOV%')\n",
      "(2.334133374400676e-05, 'STL%')\n",
      "(1.1344126533471252e-05, 'PER')\n",
      "Score on Test Set: 0.3471894189891356\n",
      "ROC_AUC: 0.5127912799612875\n",
      "Precision, recall, f_score, support:\n",
      "(array([0.45269287, 0.21750663, 0.10416667, 0.14473684, 0.0483871 ,\n",
      "       0.05714286, 0.        , 0.        , 0.        , 0.        ]), array([0.6513089 , 0.15678776, 0.06355932, 0.0738255 , 0.03061224,\n",
      "       0.02898551, 0.        , 0.        , 0.        , 0.        ]), array([0.53413482, 0.18222222, 0.07894737, 0.09777778, 0.0375    ,\n",
      "       0.03846154, 0.        , 0.        , 0.        , 0.        ]), array([955, 523, 236, 149,  98,  69,  40,  17,  20,  10]))\n",
      "\n",
      "\n",
      "Estimator lgreg\n",
      "5-Fold CV Scores:\n",
      "[0.05489965 0.07024793 0.07438017 0.06556409 0.07678677]\n",
      "Score on Test Set: 0.0807746811525744\n",
      "ROC_AUC: 0.5128539694401274\n",
      "Precision, recall, f_score, support:\n",
      "(array([0.5443787 , 0.23770492, 0.13793103, 0.08108108, 0.06060606,\n",
      "       0.04697987, 0.02173913, 0.00331126, 0.00578035, 0.        ]), array([0.09633508, 0.05544933, 0.05084746, 0.10067114, 0.08163265,\n",
      "       0.10144928, 0.125     , 0.05882353, 0.1       , 0.        ]), array([0.16370107, 0.08992248, 0.07430341, 0.08982036, 0.06956522,\n",
      "       0.06422018, 0.03703704, 0.00626959, 0.01092896, 0.        ]), array([955, 523, 236, 149,  98,  69,  40,  17,  20,  10]))\n",
      "\n",
      "\n",
      "Estimator mlp\n",
      "5-Fold CV Scores:\n",
      "[0.2609209  0.26505313 0.27331759 0.27052569 0.25398701]\n",
      "Score on Test Set: 0.26405290505432216\n",
      "ROC_AUC: 0.5020148456465563\n",
      "Precision, recall, f_score, support:\n",
      "(array([0.45005875, 0.24375   , 0.12099644, 0.06358382, 0.05263158,\n",
      "       0.05128205, 0.03703704, 0.04761905, 0.        , 0.        ]), array([0.40104712, 0.22370937, 0.1440678 , 0.0738255 , 0.06122449,\n",
      "       0.05797101, 0.05      , 0.11764706, 0.        , 0.        ]), array([0.42414175, 0.2333001 , 0.13152805, 0.06832298, 0.05660377,\n",
      "       0.05442177, 0.04255319, 0.06779661, 0.        , 0.        ]), array([955, 523, 236, 149,  98,  69,  40,  17,  20,  10]))\n",
      "\n",
      "\n"
     ]
    }
   ],
   "source": [
    "runEstimatorPipelineAndDisplayMetrics(X_train, y_train, X_test, y_test, scalers, estimators, model_dir, True)"
   ]
  },
  {
   "cell_type": "code",
   "execution_count": 28,
   "metadata": {},
   "outputs": [
    {
     "name": "stdout",
     "output_type": "stream",
     "text": [
      "Transformed shape: (8468, 61)\n",
      "Estimator rfc\n",
      "5-Fold CV Scores:\n",
      "[0.42561983 0.43270366 0.43211334 0.41169522 0.44300059]\n",
      "Sorted Features and Importances:\n",
      "(0.02421867278001105, '3P%')\n",
      "(0.024166765972490786, 'x0_PG')\n",
      "(0.02415639491739142, '2P')\n",
      "(0.023817364161224742, 'FT%')\n",
      "(0.023668240011139333, 'BPM')\n",
      "(0.02344867585765958, 'FG')\n",
      "(0.02327803258663534, '3P')\n",
      "(0.023190641839025194, 'USG%')\n",
      "(0.022959235518875524, 'x0_C-PF')\n",
      "(0.022820761969876303, 'STL')\n",
      "(0.02281952525132581, 'OBPM')\n",
      "(0.022818184414334582, 'FT')\n",
      "(0.022795400545448645, 'VORP')\n",
      "(0.022792386109078442, 'FG%')\n",
      "(0.02261265812058329, '2PA')\n",
      "(0.02229108655286044, 'DRB')\n",
      "(0.022103677540803904, 'x0_PF')\n",
      "(0.02198922001326862, '3PA')\n",
      "(0.021892694707364442, 'WS/48')\n",
      "(0.02183170977397415, 'FGA')\n",
      "(0.021723480856708912, 'x0_SG-PG')\n",
      "(0.02154753471005039, 'FTA')\n",
      "(0.021533622619444536, 'x0_SF-SG')\n",
      "(0.021492733155273874, 'ORB')\n",
      "(0.021179735460239404, 'x0_SF-PF')\n",
      "(0.020982041996079035, 'OWS')\n",
      "(0.02097967156761679, 'x0_SG-PF')\n",
      "(0.020955210713861416, '2P%')\n",
      "(0.020934879799570445, 'x0_PG-SF')\n",
      "(0.020911654755109553, 'x0_SG')\n",
      "(0.02064821296839959, 'x0_PF-C')\n",
      "(0.020295071502332333, 'eFG%')\n",
      "(0.020222937818300268, 'DBPM')\n",
      "(0.02022125706615503, 'x0_PF-SF')\n",
      "(0.020012635192159706, 'x0_PG-SG')\n",
      "(0.019664931788917473, 'WS')\n",
      "(0.019219702125935618, 'x0_SF')\n",
      "(0.01902932482856278, 'PTS')\n",
      "(0.01896943652194943, 'AST')\n",
      "(0.01863950790062101, 'x0_C')\n",
      "(0.01854534538078426, 'TRB')\n",
      "(0.01849176094929944, 'TOV')\n",
      "(0.01821134664199649, 'x0_SG-SF')\n",
      "(0.0177300888617994, 'DWS')\n",
      "(0.017084894176445906, 'PF')\n",
      "(0.015100891842863146, 'BLK')\n",
      "(0.005813949722729683, 'Age')\n",
      "(0.005419359185621575, 'GS')\n",
      "(0.005123150669867373, 'ORB%')\n",
      "(0.004922983446344376, 'AST%')\n",
      "(0.0038928162007651587, 'TS%')\n",
      "(0.00014369543074932014, 'TRB%')\n",
      "(0.00013575464590796123, 'FTr')\n",
      "(0.0001128826044165078, 'DRB%')\n",
      "(9.552292800033953e-05, 'TOV%')\n",
      "(9.370252361677794e-05, 'G')\n",
      "(8.659702600753158e-05, 'MP')\n",
      "(5.432696418984976e-05, 'BLK%')\n",
      "(4.277287305144307e-05, 'STL%')\n",
      "(3.22702185589716e-05, '3PAr')\n",
      "(3.097571632509786e-05, 'PER')\n",
      "Score on Test Set: 0.43788379782711384\n",
      "ROC_AUC: 0.4903631523017729\n",
      "Precision, recall, f_score, support:\n"
     ]
    },
    {
     "name": "stderr",
     "output_type": "stream",
     "text": [
      "/home/davidqin/anaconda3/envs/py37/lib/python3.7/site-packages/sklearn/metrics/_classification.py:1272: UndefinedMetricWarning: Precision and F-score are ill-defined and being set to 0.0 in labels with no predicted samples. Use `zero_division` parameter to control this behavior.\n",
      "  _warn_prf(average, modifier, msg_start, len(result))\n"
     ]
    },
    {
     "name": "stdout",
     "output_type": "stream",
     "text": [
      "(array([0.45154744, 0.26428571, 0.        , 0.        , 0.        ,\n",
      "       0.        , 0.        , 0.        , 0.        , 0.        ]), array([0.93193717, 0.0707457 , 0.        , 0.        , 0.        ,\n",
      "       0.        , 0.        , 0.        , 0.        , 0.        ]), array([0.60833903, 0.11161388, 0.        , 0.        , 0.        ,\n",
      "       0.        , 0.        , 0.        , 0.        , 0.        ]), array([955, 523, 236, 149,  98,  69,  40,  17,  20,  10]))\n",
      "\n",
      "\n",
      "Estimator lgreg\n",
      "5-Fold CV Scores:\n",
      "[0.44746163 0.44746163 0.44273908 0.44595393 0.44240992]\n",
      "Score on Test Set: 0.44922059518186114\n",
      "ROC_AUC: 0.5193782527991648\n",
      "Precision, recall, f_score, support:\n",
      "(array([0.45232391, 0.23333333, 0.        , 0.        , 0.        ,\n",
      "       0.        , 0.        , 0.        , 0.        , 0.        ]), array([0.98848168, 0.01338432, 0.        , 0.        , 0.        ,\n",
      "       0.        , 0.        , 0.        , 0.        , 0.        ]), array([0.62064431, 0.02531646, 0.        , 0.        , 0.        ,\n",
      "       0.        , 0.        , 0.        , 0.        , 0.        ]), array([955, 523, 236, 149,  98,  69,  40,  17,  20,  10]))\n",
      "\n",
      "\n",
      "Estimator mlp\n"
     ]
    },
    {
     "name": "stderr",
     "output_type": "stream",
     "text": [
      "/home/davidqin/anaconda3/envs/py37/lib/python3.7/site-packages/sklearn/metrics/_classification.py:1272: UndefinedMetricWarning: Precision and F-score are ill-defined and being set to 0.0 in labels with no predicted samples. Use `zero_division` parameter to control this behavior.\n",
      "  _warn_prf(average, modifier, msg_start, len(result))\n",
      "/home/davidqin/anaconda3/envs/py37/lib/python3.7/site-packages/sklearn/neural_network/_multilayer_perceptron.py:571: ConvergenceWarning: Stochastic Optimizer: Maximum iterations (400) reached and the optimization hasn't converged yet.\n",
      "  % self.max_iter, ConvergenceWarning)\n",
      "/home/davidqin/anaconda3/envs/py37/lib/python3.7/site-packages/sklearn/neural_network/_multilayer_perceptron.py:571: ConvergenceWarning: Stochastic Optimizer: Maximum iterations (400) reached and the optimization hasn't converged yet.\n",
      "  % self.max_iter, ConvergenceWarning)\n",
      "/home/davidqin/anaconda3/envs/py37/lib/python3.7/site-packages/sklearn/neural_network/_multilayer_perceptron.py:571: ConvergenceWarning: Stochastic Optimizer: Maximum iterations (400) reached and the optimization hasn't converged yet.\n",
      "  % self.max_iter, ConvergenceWarning)\n",
      "/home/davidqin/anaconda3/envs/py37/lib/python3.7/site-packages/sklearn/neural_network/_multilayer_perceptron.py:571: ConvergenceWarning: Stochastic Optimizer: Maximum iterations (400) reached and the optimization hasn't converged yet.\n",
      "  % self.max_iter, ConvergenceWarning)\n"
     ]
    },
    {
     "name": "stdout",
     "output_type": "stream",
     "text": [
      "5-Fold CV Scores:\n",
      "[0.27449823 0.27154664 0.28807556 0.29119905 0.28824572]\n",
      "Score on Test Set: 0.26263580538497877\n",
      "ROC_AUC: 0.4855261155904221\n",
      "Precision, recall, f_score, support:\n",
      "(array([0.41802389, 0.24524313, 0.13584906, 0.06989247, 0.03053435,\n",
      "       0.02739726, 0.        , 0.        , 0.        , 0.        ]), array([0.40314136, 0.22179732, 0.15254237, 0.08724832, 0.04081633,\n",
      "       0.02898551, 0.        , 0.        , 0.        , 0.        ]), array([0.41044776, 0.23293173, 0.14371257, 0.07761194, 0.0349345 ,\n",
      "       0.02816901, 0.        , 0.        , 0.        , 0.        ]), array([955, 523, 236, 149,  98,  69,  40,  17,  20,  10]))\n",
      "\n",
      "\n",
      "Transformed shape: (8468, 61)\n",
      "Estimator rfc\n",
      "5-Fold CV Scores:\n",
      "[0.42502952 0.43919717 0.42975207 0.43591258 0.43532191]\n",
      "Sorted Features and Importances:\n",
      "(0.025949412957354156, 'USG%')\n",
      "(0.024516091866566003, 'BPM')\n",
      "(0.023535061769445243, 'x0_PG')\n",
      "(0.02348052857933246, 'DWS')\n",
      "(0.02334840369093951, '3P%')\n",
      "(0.023019442749946734, 'FG%')\n",
      "(0.0228059532661678, '3P')\n",
      "(0.022800691008720637, 'x0_C-PF')\n",
      "(0.02275173824891911, 'FG')\n",
      "(0.02273153483316751, '2P')\n",
      "(0.02267527126037682, 'FT%')\n",
      "(0.022508723622092768, 'OWS')\n",
      "(0.022449691385862443, 'x0_SG-PG')\n",
      "(0.022248775062022306, '3PA')\n",
      "(0.022195874257938692, 'OBPM')\n",
      "(0.022107552517023444, 'WS/48')\n",
      "(0.021904372348127022, 'VORP')\n",
      "(0.02165701827582084, 'x0_PF')\n",
      "(0.021479193238029343, 'x0_SG')\n",
      "(0.02143246880794731, 'PF')\n",
      "(0.021343549610975916, 'ORB')\n",
      "(0.0213019820192999, 'STL')\n",
      "(0.021199084723890753, 'FTA')\n",
      "(0.021191631287183363, 'DBPM')\n",
      "(0.02112353619889757, 'FT')\n",
      "(0.021071034101057786, '2PA')\n",
      "(0.02105147958006452, 'FGA')\n",
      "(0.021018265934584272, '2P%')\n",
      "(0.021006199237636285, 'x0_SF-SG')\n",
      "(0.02073953494231037, 'x0_PG-SF')\n",
      "(0.02067059554969583, 'TOV')\n",
      "(0.020354148909178398, 'DRB')\n",
      "(0.020106570786266292, 'x0_SF-PF')\n",
      "(0.01992338138223161, 'x0_PF-C')\n",
      "(0.019903600258577674, 'x0_SG-PF')\n",
      "(0.01985657235630859, 'WS')\n",
      "(0.019755395224242432, 'BLK')\n",
      "(0.019693611266144884, 'eFG%')\n",
      "(0.01966942571560929, 'x0_PF-SF')\n",
      "(0.018894828832939473, 'PTS')\n",
      "(0.01881683398995357, 'x0_PG-SG')\n",
      "(0.01873135523284482, 'x0_SF')\n",
      "(0.01856044344177046, 'x0_C')\n",
      "(0.018026615540131317, 'TRB')\n",
      "(0.017625520310170863, 'AST')\n",
      "(0.017315198477393472, 'x0_SG-SF')\n",
      "(0.005498577903003126, 'GS')\n",
      "(0.00527189244927835, 'Age')\n",
      "(0.004905281417630112, 'ORB%')\n",
      "(0.00450254751742607, 'AST%')\n",
      "(0.004320941439791799, 'TS%')\n",
      "(0.00019249796967965805, 'FTr')\n",
      "(0.00016927196433058812, 'TRB%')\n",
      "(0.00014195310807763454, 'TOV%')\n",
      "(9.728844883490547e-05, 'MP')\n",
      "(7.843960232414947e-05, 'BLK%')\n",
      "(7.603816384523804e-05, 'DRB%')\n",
      "(6.798516967252601e-05, 'G')\n",
      "(5.062589217241793e-05, 'STL%')\n",
      "(4.3934854377481425e-05, 'PER')\n",
      "(3.4529444396215865e-05, '3PAr')\n",
      "Score on Test Set: 0.43930089749645723\n",
      "ROC_AUC: 0.5105953545704849\n",
      "Precision, recall, f_score, support:\n",
      "(array([0.45265823, 0.26923077, 0.09090909, 0.        , 0.        ,\n",
      "       0.        , 0.        , 0.        , 0.        , 0.        ]), array([0.93612565, 0.06692161, 0.00423729, 0.        , 0.        ,\n",
      "       0.        , 0.        , 0.        , 0.        , 0.        ]), array([0.61023891, 0.10719755, 0.00809717, 0.        , 0.        ,\n",
      "       0.        , 0.        , 0.        , 0.        , 0.        ]), array([955, 523, 236, 149,  98,  69,  40,  17,  20,  10]))\n",
      "\n",
      "\n",
      "Estimator lgreg\n"
     ]
    },
    {
     "name": "stderr",
     "output_type": "stream",
     "text": [
      "/home/davidqin/anaconda3/envs/py37/lib/python3.7/site-packages/sklearn/metrics/_classification.py:1272: UndefinedMetricWarning: Precision and F-score are ill-defined and being set to 0.0 in labels with no predicted samples. Use `zero_division` parameter to control this behavior.\n",
      "  _warn_prf(average, modifier, msg_start, len(result))\n"
     ]
    },
    {
     "name": "stdout",
     "output_type": "stream",
     "text": [
      "5-Fold CV Scores:\n",
      "[0.44510035 0.44687131 0.44569067 0.44713526 0.44300059]\n",
      "Score on Test Set: 0.44922059518186114\n",
      "ROC_AUC: 0.5155593478311236\n",
      "Precision, recall, f_score, support:\n",
      "(array([0.45028409, 0.        , 0.        , 0.        , 0.        ,\n",
      "       0.        , 0.        , 0.        , 0.        , 0.        ]), array([0.99581152, 0.        , 0.        , 0.        , 0.        ,\n",
      "       0.        , 0.        , 0.        , 0.        , 0.        ]), array([0.62014998, 0.        , 0.        , 0.        , 0.        ,\n",
      "       0.        , 0.        , 0.        , 0.        , 0.        ]), array([955, 523, 236, 149,  98,  69,  40,  17,  20,  10]))\n",
      "\n",
      "\n",
      "Estimator mlp\n"
     ]
    },
    {
     "name": "stderr",
     "output_type": "stream",
     "text": [
      "/home/davidqin/anaconda3/envs/py37/lib/python3.7/site-packages/sklearn/metrics/_classification.py:1272: UndefinedMetricWarning: Precision and F-score are ill-defined and being set to 0.0 in labels with no predicted samples. Use `zero_division` parameter to control this behavior.\n",
      "  _warn_prf(average, modifier, msg_start, len(result))\n"
     ]
    },
    {
     "name": "stdout",
     "output_type": "stream",
     "text": [
      "5-Fold CV Scores:\n",
      "[0.29456907 0.2892562  0.28571429 0.28292971 0.30596574]\n",
      "Score on Test Set: 0.298063297118564\n",
      "ROC_AUC: 0.507755174750362\n",
      "Precision, recall, f_score, support:\n",
      "(array([0.44956772, 0.23230088, 0.13059701, 0.08403361, 0.08080808,\n",
      "       0.05555556, 0.03030303, 0.        , 0.        , 0.        ]), array([0.49005236, 0.20076482, 0.14830508, 0.06711409, 0.08163265,\n",
      "       0.05797101, 0.025     , 0.        , 0.        , 0.        ]), array([0.46893788, 0.21538462, 0.13888889, 0.07462687, 0.08121827,\n",
      "       0.05673759, 0.02739726, 0.        , 0.        , 0.        ]), array([955, 523, 236, 149,  98,  69,  40,  17,  20,  10]))\n",
      "\n",
      "\n"
     ]
    }
   ],
   "source": [
    "runEstimatorPipelineAndDisplayMetrics(X_train, y_train, X_test, y_test, scalers, estimators, model_dir, False)"
   ]
  },
  {
   "cell_type": "code",
   "execution_count": null,
   "metadata": {},
   "outputs": [],
   "source": []
  }
 ],
 "metadata": {
  "kernelspec": {
   "display_name": "Python 3",
   "language": "python",
   "name": "python3"
  },
  "language_info": {
   "codemirror_mode": {
    "name": "ipython",
    "version": 3
   },
   "file_extension": ".py",
   "mimetype": "text/x-python",
   "name": "python",
   "nbconvert_exporter": "python",
   "pygments_lexer": "ipython3",
   "version": "3.7.0"
  }
 },
 "nbformat": 4,
 "nbformat_minor": 4
}

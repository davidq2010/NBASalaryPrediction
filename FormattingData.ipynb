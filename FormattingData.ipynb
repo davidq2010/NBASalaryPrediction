{
 "cells": [
  {
   "cell_type": "code",
   "execution_count": 225,
   "metadata": {},
   "outputs": [],
   "source": [
    "import pandas as pd\n",
    "import os\n",
    "\n",
    "from typing import Dict"
   ]
  },
  {
   "cell_type": "markdown",
   "metadata": {},
   "source": [
    "# Formatting Original Data"
   ]
  },
  {
   "cell_type": "code",
   "execution_count": 226,
   "metadata": {},
   "outputs": [],
   "source": [
    "src_dir = os.getcwd()"
   ]
  },
  {
   "cell_type": "markdown",
   "metadata": {},
   "source": [
    "## nba-players-stats/Seasons_Stats.csv"
   ]
  },
  {
   "cell_type": "code",
   "execution_count": 232,
   "metadata": {},
   "outputs": [],
   "source": [
    "stats_1950_2017 = os.path.join(src_dir, \"nba-players-stats/Seasons_Stats.csv\")\n",
    "df90_17 = pd.read_csv(stats_1950_2017, index_col=0)"
   ]
  },
  {
   "cell_type": "code",
   "execution_count": 233,
   "metadata": {},
   "outputs": [],
   "source": [
    "def format_stats_1950_2017(df90_17: pd.DataFrame, type_conv: Dict) -> pd.DataFrame:\n",
    "    \"\"\"\n",
    "    Formats 1950-2017 stats file. Note that this function modifies df90_17 to save memory.\n",
    "    In:\n",
    "        df90_17: DataFrame from 1950-2017 stats file; modified in-place to save memory.\n",
    "        type_conv: Dict containing column names to convert to int.\n",
    "    Return:\n",
    "        Formatted DataFrame.\n",
    "    \"\"\"\n",
    "    # Drop rows prior to 1990\n",
    "    df90_17.drop(df90_17[df90_17[\"Year\"] < 1990].index, inplace=True)\n",
    "    # Drop NA columns\n",
    "    df90_17.dropna(axis=1, how='all', inplace=True)\n",
    "    # Drop NA rows\n",
    "    df90_17.dropna(inplace=True)  # Defaults: axis=0, how='any'\n",
    "    # Convert certain cols to int; deep copy here\n",
    "    df90_17 = df90_17.astype(type_conv)\n",
    "    # Remove asterisks from HOF players\n",
    "    df90_17[\"Player\"] = df90_17[\"Player\"].str.rstrip('*')\n",
    "    # Reset index\n",
    "    df90_17.reset_index(drop=True, inplace=True) # Drop the old index (rather than adding it as a col)\n",
    "    return df90_17"
   ]
  },
  {
   "cell_type": "code",
   "execution_count": 234,
   "metadata": {},
   "outputs": [
    {
     "name": "stdout",
     "output_type": "stream",
     "text": [
      "       Year          Player Pos  Age   Tm   PTS   PF  TOV  BLK  STL\n",
      "0      1990      Mark Acres   C   27  ORL   362  248   70   25   36\n",
      "1      1990   Michael Adams  PG   27  DEN  1221  133  141    3  121\n",
      "2      1990    Mark Aguirre  SF   30  DET  1099  201  121   19   34\n",
      "3      1990     Danny Ainge  PG   30  SAC  1342  238  185   18  113\n",
      "4      1990     Mark Alarie  PF   26  WSB   860  219  101   39   60\n",
      "12145  2017     Ivica Zubac   C   19  LAL   284   66   30   33   14\n",
      "12144  2017     Paul Zipser  SF   22  CHI   240   78   40   16   15\n",
      "12143  2017    Tyler Zeller   C   27  BOS   178   61   20   21    7\n",
      "12142  2017     Cody Zeller  PF   24  CHO   639  189   65   58   62\n",
      "12141  2017  Thaddeus Young  PF   28  IND   814  135   96   30  114\n"
     ]
    }
   ],
   "source": [
    "cols_to_int = ['Year', 'Age', 'G', 'GS', 'MP', 'FG', 'FGA', '3P', '3PA', '2P', '2PA', 'FT', 'FTA',\n",
    "              'ORB', 'DRB', 'TRB', 'AST', 'STL', 'BLK', 'TOV', 'PF', 'PTS'] \n",
    "type_conv = dict.fromkeys(cols_to_int, int)\n",
    "df90_17 = format_stats_1950_2017(df90_17, type_conv)\n",
    "# Show first and last 5 rows and columns\n",
    "# iloc[row_idx_list, col_idx_list]\n",
    "print(df90_17.iloc[list(range(5)) + list(range(-1, -6, -1)), \n",
    "                   list(range(5)) + list(range(-1, -6, -1))])"
   ]
  },
  {
   "cell_type": "markdown",
   "metadata": {},
   "source": [
    "## nba17-18"
   ]
  },
  {
   "cell_type": "code",
   "execution_count": 235,
   "metadata": {
    "scrolled": true
   },
   "outputs": [],
   "source": [
    "stats_2018_a = os.path.join(src_dir, \"nba17-18/nba.csv\")\n",
    "stats_2018_b = os.path.join(src_dir, \"nba17-18/nba_extra.csv\")\n",
    "# Merge on the intersection of column names and union the two DataFrames\n",
    "df2018 = pd.merge(pd.read_csv(stats_2018_a, index_col=0), \n",
    "                  pd.read_csv(stats_2018_b, index_col=0), how=\"outer\")"
   ]
  },
  {
   "cell_type": "code",
   "execution_count": 236,
   "metadata": {},
   "outputs": [],
   "source": [
    "def format_stats_2018(df2018: pd.DataFrame) -> pd.DataFrame:\n",
    "    \"\"\"\n",
    "    Formats 2018 stats file. Note that this function modifies df2018 to save memory.\n",
    "    This function could make df90_17 an out parameter, but we return a value for consistency.\n",
    "    In:\n",
    "        df90_17: DataFrame from 1950-2017 stats file; modified in-place to save memory.\n",
    "    Return:\n",
    "        Formatted DataFrame.\n",
    "    \"\"\"\n",
    "    # Drop NA columns\n",
    "    df2018.dropna(axis=1, how='all', inplace=True)\n",
    "    # Drop NA rows\n",
    "    df2018.dropna(inplace=True)  # Defaults: axis=0, how='any'\n",
    "    # Add Year column\n",
    "    if not \"Year\" in df2018.columns: df2018.insert(0, \"Year\", 2018)\n",
    "    # Reorder columns; reindex doesn't do in-place and requires returning df2018    \n",
    "    gs = df2018.pop(\"GS\")\n",
    "    df2018.insert(df2018.columns.get_loc('G')+1, \"GS\", gs)\n",
    "    # Remove name encoding appended to name (escaped backslash)\n",
    "    df2018[\"Player\"] = df2018[\"Player\"].str.replace(r'\\\\(.*)', '')\n",
    "    # Reset index\n",
    "    df2018.reset_index(drop=True, inplace=True) # Drop the old index (rather than adding it as a col)\n",
    "    return df2018"
   ]
  },
  {
   "cell_type": "code",
   "execution_count": 238,
   "metadata": {},
   "outputs": [
    {
     "name": "stdout",
     "output_type": "stream",
     "text": [
      "     Year         Player Pos  Age   Tm   PTS   PF  TOV  BLK  STL\n",
      "0    2018   Alex Abrines  SG   24  OKC   353  124   25    8   38\n",
      "1    2018     Quincy Acy  PF   27  BRK   411  149   60   29   33\n",
      "2    2018   Steven Adams   C   24  OKC  1056  215  128   78   92\n",
      "3    2018    Bam Adebayo   C   20  MIA   477  138   66   41   32\n",
      "4    2018  Arron Afflalo  SG   32  ORL   179   56   21    9    4\n",
      "560  2018    Ivica Zubac   C   20  LAL   161   47   26   15    8\n",
      "559  2018    Paul Zipser  SF   23  CHI   218   86   43   15   20\n",
      "558  2018   Tyler Zeller   C   28  MIL   141   48   12   14    7\n",
      "557  2018   Tyler Zeller   C   28  BRK   300   78   35   21    8\n",
      "556  2018   Tyler Zeller   C   28  TOT   441  126   47   35   15\n"
     ]
    }
   ],
   "source": [
    "df2018 = format_stats_2018(df2018)\n",
    "# Show first and last 5 rows and columns\n",
    "# iloc[row_idx_list, col_idx_list]\n",
    "print(df2018.iloc[list(range(5)) + list(range(-1, -6, -1)), \n",
    "                   list(range(5)) + list(range(-1, -6, -1))])"
   ]
  },
  {
   "cell_type": "code",
   "execution_count": null,
   "metadata": {},
   "outputs": [],
   "source": []
  }
 ],
 "metadata": {
  "kernelspec": {
   "display_name": "Python 3",
   "language": "python",
   "name": "python3"
  },
  "language_info": {
   "codemirror_mode": {
    "name": "ipython",
    "version": 3
   },
   "file_extension": ".py",
   "mimetype": "text/x-python",
   "name": "python",
   "nbconvert_exporter": "python",
   "pygments_lexer": "ipython3",
   "version": "3.7.0"
  }
 },
 "nbformat": 4,
 "nbformat_minor": 4
}

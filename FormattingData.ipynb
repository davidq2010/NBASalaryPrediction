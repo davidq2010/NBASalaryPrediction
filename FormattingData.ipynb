{
 "cells": [
  {
   "cell_type": "code",
   "execution_count": 9,
   "metadata": {},
   "outputs": [],
   "source": [
    "import pandas as pd\n",
    "import os\n",
    "\n",
    "from typing import Dict"
   ]
  },
  {
   "cell_type": "markdown",
   "metadata": {},
   "source": [
    "# Formatting Original Data"
   ]
  },
  {
   "cell_type": "code",
   "execution_count": 10,
   "metadata": {},
   "outputs": [],
   "source": [
    "src_dir = os.getcwd()"
   ]
  },
  {
   "cell_type": "markdown",
   "metadata": {},
   "source": [
    "## nba-players-stats/Seasons_Stats.csv"
   ]
  },
  {
   "cell_type": "code",
   "execution_count": 11,
   "metadata": {},
   "outputs": [],
   "source": [
    "stats_1950_2017 = os.path.join(src_dir, \"nba-players-stats/Seasons_Stats.csv\")\n",
    "df90_17 = pd.read_csv(stats_1950_2017, index_col=0)"
   ]
  },
  {
   "cell_type": "code",
   "execution_count": 12,
   "metadata": {},
   "outputs": [],
   "source": [
    "def format_stats_1950_2017(df90_17: pd.DataFrame, type_conv: Dict) -> pd.DataFrame:\n",
    "    \"\"\"\n",
    "    Formats 1950-2017 stats file. Note that this function modifies df90_17 to save memory.\n",
    "    In:\n",
    "        df90_17: DataFrame from 1950-2017 stats file; modified in-place to save memory.\n",
    "        type_conv: Dict containing column names to convert to int.\n",
    "    Return:\n",
    "        Formatted DataFrame.\n",
    "    \"\"\"\n",
    "    # Drop rows prior to 1990\n",
    "    df90_17.drop(df90_17[df90_17[\"Year\"] < 1990].index, inplace=True)\n",
    "    # Drop NA columns\n",
    "    df90_17.dropna(axis=1, how='all', inplace=True)\n",
    "    # Drop NA rows\n",
    "    df90_17.dropna(inplace=True)  # Defaults: axis=0, how='any'\n",
    "    # For players who had multiple teams for a year, keep the TOTAL row\n",
    "    df90_17.drop_duplicates(subset=[\"Year\", \"Player\"], inplace=True)\n",
    "    # Convert certain cols to int; deep copy here\n",
    "    df90_17 = df90_17.astype(type_conv)\n",
    "    # Remove asterisks from HOF players\n",
    "    df90_17[\"Player\"] = df90_17[\"Player\"].str.rstrip('*')\n",
    "    # Reset index\n",
    "    df90_17.reset_index(drop=True, inplace=True) # Drop the old index (rather than adding it as a col)\n",
    "    return df90_17"
   ]
  },
  {
   "cell_type": "code",
   "execution_count": 15,
   "metadata": {},
   "outputs": [
    {
     "name": "stdout",
     "output_type": "stream",
     "text": [
      "       Year          Player Pos  Age   Tm  STL  BLK  TOV   PF   PTS\n",
      "0      1990      Mark Acres   C   27  ORL   36   25   70  248   362\n",
      "1      1990   Michael Adams  PG   27  DEN  121    3  141  133  1221\n",
      "2      1990    Mark Aguirre  SF   30  DET   34   19  121  201  1099\n",
      "3      1990     Danny Ainge  PG   30  SAC  113   18  185  238  1342\n",
      "4      1990     Mark Alarie  PF   26  WSB   60   39  101  219   860\n",
      "10208  2017  Thaddeus Young  PF   28  IND  114   30   96  135   814\n",
      "10209  2017     Cody Zeller  PF   24  CHO   62   58   65  189   639\n",
      "10210  2017    Tyler Zeller   C   27  BOS    7   21   20   61   178\n",
      "10211  2017     Paul Zipser  SF   22  CHI   15   16   40   78   240\n",
      "10212  2017     Ivica Zubac   C   19  LAL   14   33   30   66   284\n"
     ]
    }
   ],
   "source": [
    "cols_to_int = ['Year', 'Age', 'G', 'GS', 'MP', 'FG', 'FGA', '3P', '3PA', '2P', '2PA', 'FT', 'FTA',\n",
    "              'ORB', 'DRB', 'TRB', 'AST', 'STL', 'BLK', 'TOV', 'PF', 'PTS'] \n",
    "type_conv = dict.fromkeys(cols_to_int, int)\n",
    "df90_17 = format_stats_1950_2017(df90_17, type_conv)\n",
    "# Show first and last 5 rows and columns\n",
    "# iloc[row_idx_list, col_idx_list]\n",
    "print(df90_17.iloc[list(range(5)) + list(range(-5, 0)), \n",
    "                   list(range(5)) + list(range(-5, 0))])"
   ]
  },
  {
   "cell_type": "markdown",
   "metadata": {},
   "source": [
    "## nba17-18"
   ]
  },
  {
   "cell_type": "code",
   "execution_count": 6,
   "metadata": {
    "scrolled": true
   },
   "outputs": [],
   "source": [
    "stats_2018_a = os.path.join(src_dir, \"nba17-18/nba.csv\")\n",
    "stats_2018_b = os.path.join(src_dir, \"nba17-18/nba_extra.csv\")\n",
    "# Merge on the intersection of column names and union the two DataFrames\n",
    "df2018 = pd.merge(pd.read_csv(stats_2018_a, index_col=0), \n",
    "                  pd.read_csv(stats_2018_b, index_col=0), how=\"outer\")"
   ]
  },
  {
   "cell_type": "code",
   "execution_count": 7,
   "metadata": {},
   "outputs": [],
   "source": [
    "def format_stats_2018(df2018: pd.DataFrame) -> pd.DataFrame:\n",
    "    \"\"\"\n",
    "    Formats 2018 stats file. Note that this function modifies df2018 to save memory.\n",
    "    This function could make df90_17 an out parameter, but we return a value for consistency.\n",
    "    In:\n",
    "        df90_17: DataFrame from 1950-2017 stats file; modified in-place to save memory.\n",
    "    Return:\n",
    "        Formatted DataFrame.\n",
    "    \"\"\"\n",
    "    # Drop NA columns\n",
    "    df2018.dropna(axis=1, how='all', inplace=True)\n",
    "    # Drop NA rows\n",
    "    df2018.dropna(inplace=True)  # Defaults: axis=0, how='any'\n",
    "    # Add Year column\n",
    "    if not \"Year\" in df2018.columns: df2018.insert(0, \"Year\", 2018)\n",
    "    # For players who had multiple teams for a year, keep the TOTAL row\n",
    "    df2018.drop_duplicates(subset=[\"Year\", \"Player\"], inplace=True)\n",
    "    # Reorder columns; reindex doesn't do in-place and requires returning df2018    \n",
    "    gs = df2018.pop(\"GS\")\n",
    "    df2018.insert(df2018.columns.get_loc('G')+1, \"GS\", gs)\n",
    "    # Remove name encoding appended to name (escaped backslash)\n",
    "    df2018[\"Player\"] = df2018[\"Player\"].str.replace(r'\\\\(.*)', '')\n",
    "    # Reset index\n",
    "    df2018.reset_index(drop=True, inplace=True) # Drop the old index (rather than adding it as a col)\n",
    "    return df2018"
   ]
  },
  {
   "cell_type": "code",
   "execution_count": 16,
   "metadata": {},
   "outputs": [
    {
     "name": "stdout",
     "output_type": "stream",
     "text": [
      "     Year          Player Pos  Age   Tm  STL  BLK  TOV   PF   PTS\n",
      "0    2018    Alex Abrines  SG   24  OKC   38    8   25  124   353\n",
      "1    2018      Quincy Acy  PF   27  BRK   33   29   60  149   411\n",
      "2    2018    Steven Adams   C   24  OKC   92   78  128  215  1056\n",
      "3    2018     Bam Adebayo   C   20  MIA   32   41   66  138   477\n",
      "4    2018   Arron Afflalo  SG   32  ORL    4    9   21   56   179\n",
      "461  2018  Thaddeus Young  PF   29  IND  135   36  105  175   955\n",
      "462  2018     Cody Zeller   C   25  CHO   14   21   33   81   233\n",
      "463  2018    Tyler Zeller   C   28  TOT   15   35   47  126   441\n",
      "464  2018     Paul Zipser  SF   23  CHI   20   15   43   86   218\n",
      "465  2018     Ivica Zubac   C   20  LAL    8   15   26   47   161\n"
     ]
    }
   ],
   "source": [
    "df2018 = format_stats_2018(df2018)\n",
    "# Show first and last 5 rows and columns\n",
    "# iloc[row_idx_list, col_idx_list]\n",
    "print(df2018.iloc[list(range(5)) + list(range(-5, 0)), \n",
    "                   list(range(5)) + list(range(-5, 0))])"
   ]
  },
  {
   "cell_type": "markdown",
   "metadata": {},
   "source": [
    "## Combine Stats Data and Export CSV"
   ]
  },
  {
   "cell_type": "code",
   "execution_count": 18,
   "metadata": {},
   "outputs": [
    {
     "name": "stdout",
     "output_type": "stream",
     "text": [
      "     Year          Player Pos  Age   Tm  STL  BLK  TOV   PF   PTS\n",
      "0    1990      Mark Acres   C   27  ORL   36   25   70  248   362\n",
      "1    1990   Michael Adams  PG   27  DEN  121    3  141  133  1221\n",
      "2    1990    Mark Aguirre  SF   30  DET   34   19  121  201  1099\n",
      "3    1990     Danny Ainge  PG   30  SAC  113   18  185  238  1342\n",
      "4    1990     Mark Alarie  PF   26  WSB   60   39  101  219   860\n",
      "461  2018  Thaddeus Young  PF   29  IND  135   36  105  175   955\n",
      "462  2018     Cody Zeller   C   25  CHO   14   21   33   81   233\n",
      "463  2018    Tyler Zeller   C   28  TOT   15   35   47  126   441\n",
      "464  2018     Paul Zipser  SF   23  CHI   20   15   43   86   218\n",
      "465  2018     Ivica Zubac   C   20  LAL    8   15   26   47   161\n"
     ]
    }
   ],
   "source": [
    "df90_18 = pd.concat([df90_17, df2018]) # No need to use any join args b/c cols are the same\n",
    "print(df90_18.iloc[list(range(5)) + list(range(-5, 0)), \n",
    "                   list(range(5)) + list(range(-5, 0))])"
   ]
  },
  {
   "cell_type": "code",
   "execution_count": 26,
   "metadata": {},
   "outputs": [],
   "source": [
    "outfile_name = \"nba_stats_1990_2018.csv\"\n",
    "data_dir = os.path.join(src_dir, \"Data\")\n",
    "outfile_path = os.path.join(data_dir, outfile_name)"
   ]
  },
  {
   "cell_type": "code",
   "execution_count": 27,
   "metadata": {},
   "outputs": [],
   "source": [
    "os.makedirs(data_dir, exist_ok=True)  # Make directory if it doesn't exist\n",
    "if not os.path.isfile(outfile_path): df90_18.to_csv(outfile_path, index=False)"
   ]
  },
  {
   "cell_type": "code",
   "execution_count": null,
   "metadata": {},
   "outputs": [],
   "source": []
  }
 ],
 "metadata": {
  "kernelspec": {
   "display_name": "Python 3",
   "language": "python",
   "name": "python3"
  },
  "language_info": {
   "codemirror_mode": {
    "name": "ipython",
    "version": 3
   },
   "file_extension": ".py",
   "mimetype": "text/x-python",
   "name": "python",
   "nbconvert_exporter": "python",
   "pygments_lexer": "ipython3",
   "version": "3.7.0"
  }
 },
 "nbformat": 4,
 "nbformat_minor": 4
}

{
 "cells": [
  {
   "cell_type": "code",
   "execution_count": 43,
   "metadata": {},
   "outputs": [],
   "source": [
    "import pandas as pd\n",
    "import os\n",
    "\n",
    "from typing import Dict, List"
   ]
  },
  {
   "cell_type": "markdown",
   "metadata": {},
   "source": [
    "# Formatting Original Data"
   ]
  },
  {
   "cell_type": "code",
   "execution_count": 44,
   "metadata": {},
   "outputs": [],
   "source": [
    "src_dir = os.getcwd()\n",
    "data_dir = os.path.join(src_dir, \"Data\")\n",
    "os.makedirs(data_dir, exist_ok=True)  # Make directory if it doesn't exist"
   ]
  },
  {
   "cell_type": "markdown",
   "metadata": {},
   "source": [
    "## nba-players-stats/Seasons_Stats.csv"
   ]
  },
  {
   "cell_type": "code",
   "execution_count": 45,
   "metadata": {},
   "outputs": [],
   "source": [
    "stat_50_17_file = os.path.join(src_dir, \"nba-players-stats/Seasons_Stats.csv\")\n",
    "# Can do this because:\n",
    "# https://pandas.pydata.org/pandas-docs/version/0.24/whatsnew/v0.24.0.html#optional-integer-na-support\n",
    "cols_to_int = ['Year', 'Age', 'G', 'GS', 'MP', 'FG', 'FGA', '3P', '3PA', '2P', '2PA', 'FT', 'FTA',\n",
    "              'ORB', 'DRB', 'TRB', 'AST', 'STL', 'BLK', 'TOV', 'PF', 'PTS'] \n",
    "type_conv = dict.fromkeys(cols_to_int, 'Int64')\n",
    "stat50_17 = pd.read_csv(stat_50_17_file, index_col=0, dtype=type_conv)"
   ]
  },
  {
   "cell_type": "code",
   "execution_count": 46,
   "metadata": {},
   "outputs": [],
   "source": [
    "def format_stats_50_17(stats: pd.DataFrame, fill_dict: List) -> pd.DataFrame:\n",
    "    \"\"\"\n",
    "    Formats 1950-2017 stats file. Note that this function modifies stats to save memory.\n",
    "    In:\n",
    "        type_conv: Dict containing column names to convert to int.\n",
    "    Return: \n",
    "        DataFrame from 1990-2017 (season ends); modified in-place to save memory/\n",
    "    \"\"\"\n",
    "    # Drop rows prior to 1990 (our salary data is from 1991 onwards)\n",
    "    stats.drop(stats[stats[\"Year\"] < 1990].index, inplace=True)\n",
    "    # Drop NA columns; \n",
    "    stats.dropna(axis=1, how='all', inplace=True)\n",
    "    # For players who had multiple teams for a year, keep the TOTAL row\n",
    "    stats.drop_duplicates(subset=[\"Year\", \"Player\"], inplace=True)\n",
    "    # Fill NAs with 0s for certain columns\n",
    "    stats.fillna(fill_dict, inplace=True)\n",
    "    # Drop NA rows\n",
    "    stats.dropna(inplace=True)  # Defaults: axis=0, how='any'\n",
    "    # Remove asterisks from HOF players\n",
    "    stats[\"Player\"] = stats[\"Player\"].str.rstrip('*')\n",
    "    # Reset index\n",
    "    stats.reset_index(drop=True, inplace=True) # Drop the old index (rather than adding it as a col)\n",
    "    return stats"
   ]
  },
  {
   "cell_type": "code",
   "execution_count": 47,
   "metadata": {},
   "outputs": [
    {
     "name": "stdout",
     "output_type": "stream",
     "text": [
      "       Season End             Player Pos  Age   Tm  STL  BLK  TOV   PF   PTS\n",
      "0            1990         Mark Acres   C   27  ORL   36   25   70  248   362\n",
      "1            1990      Michael Adams  PG   27  DEN  121    3  141  133  1221\n",
      "2            1990       Mark Aguirre  SF   30  DET   34   19  121  201  1099\n",
      "3            1990        Danny Ainge  PG   30  SAC  113   18  185  238  1342\n",
      "4            1990        Mark Alarie  PF   26  WSB   60   39  101  219   860\n",
      "12292        2017        Cody Zeller  PF   24  CHO   62   58   65  189   639\n",
      "12293        2017       Tyler Zeller   C   27  BOS    7   21   20   61   178\n",
      "12294        2017  Stephen Zimmerman   C   20  ORL    2    5    3   17    23\n",
      "12295        2017        Paul Zipser  SF   22  CHI   15   16   40   78   240\n",
      "12296        2017        Ivica Zubac   C   19  LAL   14   33   30   66   284\n"
     ]
    }
   ],
   "source": [
    "cols_to_fill = ['FG%', '3P%', '2P%', 'eFG%', 'FT%']\n",
    "fill_dict = dict.fromkeys(cols_to_fill, 0.0)\n",
    "stat90_17 = format_stats_50_17(stat50_17, fill_dict)\n",
    "# Rename Year col to Season End for clarity\n",
    "stat90_17.rename(columns={\"Year\": \"Season End\"}, inplace=True) \n",
    "# Show first and last 5 rows and columns\n",
    "# iloc[row_idx_list, col_idx_list]\n",
    "print(stat90_17.iloc[list(range(5)) + list(range(-5, 0)), \n",
    "                   list(range(5)) + list(range(-5, 0))])"
   ]
  },
  {
   "cell_type": "code",
   "execution_count": 48,
   "metadata": {},
   "outputs": [],
   "source": [
    "out_stats_name = \"nba_stats_1990_2017.csv\"\n",
    "out_stats_path = os.path.join(data_dir, out_stats_name)"
   ]
  },
  {
   "cell_type": "code",
   "execution_count": 49,
   "metadata": {},
   "outputs": [],
   "source": [
    "if not os.path.isfile(out_stats_path): stat90_17.to_csv(out_stats_path, index=False)"
   ]
  },
  {
   "cell_type": "markdown",
   "metadata": {},
   "source": [
    "## Salaries Per Season (1990-2017)"
   ]
  },
  {
   "cell_type": "code",
   "execution_count": 35,
   "metadata": {},
   "outputs": [],
   "source": [
    "sal91_18_file = os.path.join(src_dir, \"NBA_Salary_History/NBA_Salary_History.csv\")\n",
    "# Don't care about team column\n",
    "sal91_18 = pd.read_csv(sal91_18_file, usecols=[\"Season\", \"Player\", \"Salary\"], \n",
    "                       na_values = ['Unknown'])"
   ]
  },
  {
   "cell_type": "code",
   "execution_count": 36,
   "metadata": {},
   "outputs": [],
   "source": [
    "def format_sal(sal91_18: pd.DataFrame) -> pd.DataFrame:\n",
    "    \"\"\"\n",
    "    Formats 1991-2018 salaries file. Note that this function modifies sal91_18 to save memory.\n",
    "    In:\n",
    "        sal91_18: DataFrame from 1991-2018 salaries file; modified in-place to save memory.\n",
    "    Return:\n",
    "        Formatted salaries DataFrame.\n",
    "    \"\"\"\n",
    "    # Drop NA rows\n",
    "    sal91_18.dropna(inplace=True)  # Defaults: axis=0, how='any'\n",
    "    # Rename Season to Season Start\n",
    "    sal91_18.rename(columns={\"Season\": \"Season Start\"}, inplace=True)\n",
    "    # Strip -YY from Season Start years\n",
    "    sal91_18['Season Start'] = sal91_18['Season Start'].str.replace(r'-(.*)$', '').astype(int)\n",
    "    # Add Season End column; have to unpack the dictionary for assign\n",
    "    sal91_18 = sal91_18.assign(**{'Season End': (lambda x: x['Season Start'] + 1)})\n",
    "    sal91_18['Salary'] = sal91_18['Salary'].astype(int)\n",
    "    return sal91_18"
   ]
  },
  {
   "cell_type": "code",
   "execution_count": 37,
   "metadata": {},
   "outputs": [
    {
     "name": "stdout",
     "output_type": "stream",
     "text": [
      "   Season Start           Player    Salary  Season End\n",
      "0          2017    Kent Bazemore  16910113        2018\n",
      "1          2017  Dennis Schroder  15500000        2018\n",
      "2          2017    Miles Plumlee  12500000        2018\n",
      "3          2017   Jamal Crawford  10942762        2018\n",
      "4          2017  Marco Belinelli   6306060        2018\n",
      "       Season Start            Player  Salary  Season End\n",
      "13292          1990      Harvey Grant  475000        1991\n",
      "13293          1990       Byron Irvin  375000        1991\n",
      "13294          1990      A.J. English  275000        1991\n",
      "13295          1990       Greg Foster  275000        1991\n",
      "13296          1990  Haywoode Workman  120000        1991\n"
     ]
    }
   ],
   "source": [
    "sal91_18 = format_sal(sal91_18)\n",
    "print(sal91_18.head())\n",
    "print(sal91_18.tail())"
   ]
  },
  {
   "cell_type": "code",
   "execution_count": 38,
   "metadata": {},
   "outputs": [
    {
     "data": {
      "text/plain": [
       "Season Start     int64\n",
       "Player          object\n",
       "Salary           int64\n",
       "Season End       int64\n",
       "dtype: object"
      ]
     },
     "execution_count": 38,
     "metadata": {},
     "output_type": "execute_result"
    }
   ],
   "source": [
    "sal91_18.dtypes"
   ]
  },
  {
   "cell_type": "code",
   "execution_count": 39,
   "metadata": {},
   "outputs": [],
   "source": [
    "out_sal_name = \"nba_salaries_1991_2018.csv\"\n",
    "out_sal_path = os.path.join(data_dir, out_sal_name)"
   ]
  },
  {
   "cell_type": "code",
   "execution_count": 40,
   "metadata": {},
   "outputs": [],
   "source": [
    "if not os.path.isfile(out_sal_path): sal91_18.to_csv(out_sal_path, index=False)"
   ]
  },
  {
   "cell_type": "markdown",
   "metadata": {},
   "source": [
    "## Matching Salary Data to Player Data by Year"
   ]
  },
  {
   "cell_type": "code",
   "execution_count": 50,
   "metadata": {},
   "outputs": [],
   "source": [
    "sal91_18_form_file = os.path.join(data_dir, \"nba_salaries_1991_2018.csv\")\n",
    "sal91_18_form = pd.read_csv(sal91_18_form_file)\n",
    "stat90_17_form_file = os.path.join(data_dir, \"nba_stats_1990_2017.csv\")\n",
    "stat90_17_form = pd.read_csv(stat90_17_form_file)"
   ]
  },
  {
   "cell_type": "code",
   "execution_count": 51,
   "metadata": {},
   "outputs": [],
   "source": [
    "merged = pd.merge(stat90_17_form, sal91_18_form[[\"Player\", \"Season Start\", \"Salary\"]], \n",
    "                  how='inner', \n",
    "                  left_on=['Player', 'Season End'], \n",
    "                  right_on=['Player', 'Season Start'])\n",
    "if \"Season Start\" in merged.columns: merged.pop(\"Season Start\")"
   ]
  },
  {
   "cell_type": "code",
   "execution_count": 52,
   "metadata": {},
   "outputs": [
    {
     "name": "stdout",
     "output_type": "stream",
     "text": [
      "       Season End             Player Pos  Age   Tm  BLK  TOV   PF   PTS  \\\n",
      "0            1990         Mark Acres   C   27  ORL   25   70  248   362   \n",
      "1            1990      Michael Adams  PG   27  DEN    3  141  133  1221   \n",
      "2            1990       Mark Aguirre  SF   30  DET   19  121  201  1099   \n",
      "3            1990        Danny Ainge  PG   30  SAC   18  185  238  1342   \n",
      "4            1990        Mark Alarie  PF   26  WSB   39  101  219   860   \n",
      "10639        2017        Cody Zeller  PF   24  CHO   58   65  189   639   \n",
      "10640        2017       Tyler Zeller   C   27  BOS   21   20   61   178   \n",
      "10641        2017  Stephen Zimmerman   C   20  ORL    5    3   17    23   \n",
      "10642        2017        Paul Zipser  SF   22  CHI   16   40   78   240   \n",
      "10643        2017        Ivica Zubac   C   19  LAL   33   30   66   284   \n",
      "\n",
      "         Salary  \n",
      "0        437000  \n",
      "1        825000  \n",
      "2       1115000  \n",
      "3        725000  \n",
      "4        500000  \n",
      "10639  12584270  \n",
      "10640   1709538  \n",
      "10641   1312611  \n",
      "10642   1312611  \n",
      "10643   1312611  \n"
     ]
    }
   ],
   "source": [
    "print(merged.iloc[list(range(5)) + list(range(-5, 0)), \n",
    "                   list(range(5)) + list(range(-5, 0))])"
   ]
  },
  {
   "cell_type": "code",
   "execution_count": 53,
   "metadata": {},
   "outputs": [
    {
     "data": {
      "text/plain": [
       "Season End      int64\n",
       "Player         object\n",
       "Pos            object\n",
       "Age             int64\n",
       "Tm             object\n",
       "G               int64\n",
       "GS              int64\n",
       "MP              int64\n",
       "PER           float64\n",
       "TS%           float64\n",
       "3PAr          float64\n",
       "FTr           float64\n",
       "ORB%          float64\n",
       "DRB%          float64\n",
       "TRB%          float64\n",
       "AST%          float64\n",
       "STL%          float64\n",
       "BLK%          float64\n",
       "TOV%          float64\n",
       "USG%          float64\n",
       "OWS           float64\n",
       "DWS           float64\n",
       "WS            float64\n",
       "WS/48         float64\n",
       "OBPM          float64\n",
       "DBPM          float64\n",
       "BPM           float64\n",
       "VORP          float64\n",
       "FG              int64\n",
       "FGA             int64\n",
       "FG%           float64\n",
       "3P              int64\n",
       "3PA             int64\n",
       "3P%           float64\n",
       "2P              int64\n",
       "2PA             int64\n",
       "2P%           float64\n",
       "eFG%          float64\n",
       "FT              int64\n",
       "FTA             int64\n",
       "FT%           float64\n",
       "ORB             int64\n",
       "DRB             int64\n",
       "TRB             int64\n",
       "AST             int64\n",
       "STL             int64\n",
       "BLK             int64\n",
       "TOV             int64\n",
       "PF              int64\n",
       "PTS             int64\n",
       "Salary          int64\n",
       "dtype: object"
      ]
     },
     "execution_count": 53,
     "metadata": {},
     "output_type": "execute_result"
    }
   ],
   "source": [
    "merged.dtypes"
   ]
  },
  {
   "cell_type": "code",
   "execution_count": 54,
   "metadata": {},
   "outputs": [],
   "source": [
    "out_merged_name = \"nba_stats_sal_merged_1990_2017.csv\"\n",
    "out_merged_path = os.path.join(data_dir, out_merged_name)"
   ]
  },
  {
   "cell_type": "code",
   "execution_count": 55,
   "metadata": {},
   "outputs": [],
   "source": [
    "if not os.path.isfile(out_merged_path): merged.to_csv(out_merged_path, index=False)"
   ]
  },
  {
   "cell_type": "code",
   "execution_count": null,
   "metadata": {},
   "outputs": [],
   "source": []
  }
 ],
 "metadata": {
  "kernelspec": {
   "display_name": "Python 3",
   "language": "python",
   "name": "python3"
  },
  "language_info": {
   "codemirror_mode": {
    "name": "ipython",
    "version": 3
   },
   "file_extension": ".py",
   "mimetype": "text/x-python",
   "name": "python",
   "nbconvert_exporter": "python",
   "pygments_lexer": "ipython3",
   "version": "3.7.0"
  }
 },
 "nbformat": 4,
 "nbformat_minor": 4
}

{
 "cells": [
  {
   "cell_type": "code",
   "execution_count": 6,
   "metadata": {},
   "outputs": [],
   "source": [
    "import pandas as pd\n",
    "import os"
   ]
  },
  {
   "cell_type": "markdown",
   "metadata": {},
   "source": [
    "# Formatting Original Data"
   ]
  },
  {
   "cell_type": "code",
   "execution_count": 102,
   "metadata": {},
   "outputs": [],
   "source": [
    "src_dir = os.getcwd()"
   ]
  },
  {
   "cell_type": "markdown",
   "metadata": {},
   "source": [
    "## nba-players-stats/Seasons_Stats.csv"
   ]
  },
  {
   "cell_type": "code",
   "execution_count": 87,
   "metadata": {},
   "outputs": [
    {
     "name": "stdout",
     "output_type": "stream",
     "text": [
      "     Year           Player  Pos   Age   Tm     G  GS  MP  PER    TS%  ...  \\\n",
      "0  1950.0  Curly Armstrong  G-F  31.0  FTW  63.0 NaN NaN  NaN  0.368  ...   \n",
      "1  1950.0     Cliff Barker   SG  29.0  INO  49.0 NaN NaN  NaN  0.435  ...   \n",
      "2  1950.0    Leo Barnhorst   SF  25.0  CHS  67.0 NaN NaN  NaN  0.394  ...   \n",
      "3  1950.0       Ed Bartels    F  24.0  TOT  15.0 NaN NaN  NaN  0.312  ...   \n",
      "4  1950.0       Ed Bartels    F  24.0  DNN  13.0 NaN NaN  NaN  0.308  ...   \n",
      "\n",
      "     FT%  ORB  DRB  TRB    AST  STL  BLK  TOV     PF    PTS  \n",
      "0  0.705  NaN  NaN  NaN  176.0  NaN  NaN  NaN  217.0  458.0  \n",
      "1  0.708  NaN  NaN  NaN  109.0  NaN  NaN  NaN   99.0  279.0  \n",
      "2  0.698  NaN  NaN  NaN  140.0  NaN  NaN  NaN  192.0  438.0  \n",
      "3  0.559  NaN  NaN  NaN   20.0  NaN  NaN  NaN   29.0   63.0  \n",
      "4  0.548  NaN  NaN  NaN   20.0  NaN  NaN  NaN   27.0   59.0  \n",
      "\n",
      "[5 rows x 52 columns]\n",
      "         Year             Player Pos   Age   Tm     G    GS      MP   PER  \\\n",
      "24686  2017.0        Cody Zeller  PF  24.0  CHO  62.0  58.0  1725.0  16.7   \n",
      "24687  2017.0       Tyler Zeller   C  27.0  BOS  51.0   5.0   525.0  13.0   \n",
      "24688  2017.0  Stephen Zimmerman   C  20.0  ORL  19.0   0.0   108.0   7.3   \n",
      "24689  2017.0        Paul Zipser  SF  22.0  CHI  44.0  18.0   843.0   6.9   \n",
      "24690  2017.0        Ivica Zubac   C  19.0  LAL  38.0  11.0   609.0  17.0   \n",
      "\n",
      "         TS%  ...    FT%    ORB    DRB    TRB   AST   STL   BLK   TOV     PF  \\\n",
      "24686  0.604  ...  0.679  135.0  270.0  405.0  99.0  62.0  58.0  65.0  189.0   \n",
      "24687  0.508  ...  0.564   43.0   81.0  124.0  42.0   7.0  21.0  20.0   61.0   \n",
      "24688  0.346  ...  0.600   11.0   24.0   35.0   4.0   2.0   5.0   3.0   17.0   \n",
      "24689  0.503  ...  0.775   15.0  110.0  125.0  36.0  15.0  16.0  40.0   78.0   \n",
      "24690  0.547  ...  0.653   41.0  118.0  159.0  30.0  14.0  33.0  30.0   66.0   \n",
      "\n",
      "         PTS  \n",
      "24686  639.0  \n",
      "24687  178.0  \n",
      "24688   23.0  \n",
      "24689  240.0  \n",
      "24690  284.0  \n",
      "\n",
      "[5 rows x 52 columns]\n"
     ]
    }
   ],
   "source": [
    "stats_1950_2017 = os.path.join(src_dir, \"nba-players-stats/Seasons_Stats.csv\")\n",
    "df90_17 = pd.read_csv(stats_1950_2017, index_col=0)\n",
    "print(df90_17.head())\n",
    "print(df90_17.tail())"
   ]
  },
  {
   "cell_type": "code",
   "execution_count": 91,
   "metadata": {},
   "outputs": [],
   "source": [
    "def format_stats_1950_2017(df90_17: pd.DataFrame) -> pd.DataFrame:\n",
    "    \"\"\"\n",
    "    Out:\n",
    "        df90_17: DataFrame from 1950-2017 stats file; modified in-place to save memory\n",
    "    \"\"\"\n",
    "    # Drop rows prior to 1990\n",
    "    df90_17.drop(df90_17[df90_17[\"Year\"] < 1990].index, inplace=True)\n",
    "    # Drop NA columns\n",
    "    df90_17.dropna(axis=1, how='all', inplace=True)\n",
    "    # Drop NA rows\n",
    "    df90_17.dropna(inplace=True)  # Defaults: axis=0, how='any'\n",
    "    df90_17.reset_index(drop=True, inplace=True) # Drop the old index (rather than adding it as a col)"
   ]
  },
  {
   "cell_type": "code",
   "execution_count": 101,
   "metadata": {},
   "outputs": [
    {
     "name": "stdout",
     "output_type": "stream",
     "text": [
      "         Year          Player Pos   Age   Tm     PTS     PF    TOV   BLK  \\\n",
      "0      1990.0      Mark Acres   C  27.0  ORL   362.0  248.0   70.0  25.0   \n",
      "1      1990.0   Michael Adams  PG  27.0  DEN  1221.0  133.0  141.0   3.0   \n",
      "2      1990.0    Mark Aguirre  SF  30.0  DET  1099.0  201.0  121.0  19.0   \n",
      "3      1990.0     Danny Ainge  PG  30.0  SAC  1342.0  238.0  185.0  18.0   \n",
      "4      1990.0     Mark Alarie  PF  26.0  WSB   860.0  219.0  101.0  39.0   \n",
      "12145  2017.0     Ivica Zubac   C  19.0  LAL   284.0   66.0   30.0  33.0   \n",
      "12144  2017.0     Paul Zipser  SF  22.0  CHI   240.0   78.0   40.0  16.0   \n",
      "12143  2017.0    Tyler Zeller   C  27.0  BOS   178.0   61.0   20.0  21.0   \n",
      "12142  2017.0     Cody Zeller  PF  24.0  CHO   639.0  189.0   65.0  58.0   \n",
      "12141  2017.0  Thaddeus Young  PF  28.0  IND   814.0  135.0   96.0  30.0   \n",
      "\n",
      "         STL  \n",
      "0       36.0  \n",
      "1      121.0  \n",
      "2       34.0  \n",
      "3      113.0  \n",
      "4       60.0  \n",
      "12145   14.0  \n",
      "12144   15.0  \n",
      "12143    7.0  \n",
      "12142   62.0  \n",
      "12141  114.0  \n"
     ]
    }
   ],
   "source": [
    "format_stats_1950_2017(df90_17)\n",
    "# Show first and last 5 rows and columns\n",
    "# iloc[row_idx_list, col_idx_list]\n",
    "print(df90_17.iloc[list(range(5)) + list(range(-1, -6, -1)), \n",
    "                   list(range(5)) + list(range(-1, -6, -1))])"
   ]
  },
  {
   "cell_type": "markdown",
   "metadata": {},
   "source": [
    "## nba17-18"
   ]
  },
  {
   "cell_type": "code",
   "execution_count": null,
   "metadata": {},
   "outputs": [],
   "source": [
    "stats_2018_a = os.path.join(src_dir, \"nba17-18/nba.csv\")\n",
    "stats_2018_b = os.path.join(src_dir, \"nba17-18/nba_extra.csv\")\n"
   ]
  }
 ],
 "metadata": {
  "kernelspec": {
   "display_name": "Python 3",
   "language": "python",
   "name": "python3"
  },
  "language_info": {
   "codemirror_mode": {
    "name": "ipython",
    "version": 3
   },
   "file_extension": ".py",
   "mimetype": "text/x-python",
   "name": "python",
   "nbconvert_exporter": "python",
   "pygments_lexer": "ipython3",
   "version": "3.7.0"
  }
 },
 "nbformat": 4,
 "nbformat_minor": 4
}

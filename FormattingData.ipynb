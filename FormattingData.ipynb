{
 "cells": [
  {
   "cell_type": "code",
   "execution_count": 19,
   "metadata": {},
   "outputs": [],
   "source": [
    "import pandas as pd\n",
    "import os\n",
    "\n",
    "from typing import Dict"
   ]
  },
  {
   "cell_type": "markdown",
   "metadata": {},
   "source": [
    "# Formatting Original Data"
   ]
  },
  {
   "cell_type": "code",
   "execution_count": 33,
   "metadata": {},
   "outputs": [],
   "source": [
    "src_dir = os.getcwd()\n",
    "data_dir = os.path.join(src_dir, \"Data\")\n",
    "os.makedirs(data_dir, exist_ok=True)  # Make directory if it doesn't exist"
   ]
  },
  {
   "cell_type": "markdown",
   "metadata": {},
   "source": [
    "## nba-players-stats/Seasons_Stats.csv"
   ]
  },
  {
   "cell_type": "code",
   "execution_count": 34,
   "metadata": {},
   "outputs": [],
   "source": [
    "stat_50_17_file = os.path.join(src_dir, \"nba-players-stats/Seasons_Stats.csv\")\n",
    "stat50_17 = pd.read_csv(stat_50_17_file, index_col=0)"
   ]
  },
  {
   "cell_type": "code",
   "execution_count": 35,
   "metadata": {},
   "outputs": [],
   "source": [
    "def format_stats_50_17(stat50_17: pd.DataFrame, type_conv: Dict) -> pd.DataFrame:\n",
    "    \"\"\"\n",
    "    Formats 1950-2017 stats file. Note that this function modifies stat50_17 to save memory.\n",
    "    In:\n",
    "        stat50_17: DataFrame from 1950-2017 stats file; modified in-place to save memory.\n",
    "        type_conv: Dict containing column names to convert to int.\n",
    "    Return:\n",
    "        Formatted 1991-2017 stats DataFrame.\n",
    "    \"\"\"\n",
    "    # Drop rows prior to 1990 (our salary data is from 1991 onwards)\n",
    "    stat50_17.drop(stat50_17[stat50_17[\"Year\"] < 1990].index, inplace=True)\n",
    "    # Drop NA columns\n",
    "    stat50_17.dropna(axis=1, how='all', inplace=True)\n",
    "    # Drop NA rows\n",
    "    stat50_17.dropna(inplace=True)  # Defaults: axis=0, how='any'\n",
    "    # For players who had multiple teams for a year, keep the TOTAL row\n",
    "    stat50_17.drop_duplicates(subset=[\"Year\", \"Player\"], inplace=True)\n",
    "    # Convert certain cols to int; deep copy here\n",
    "    stat90_17 = stat50_17.astype(type_conv)\n",
    "    # Remove asterisks from HOF players\n",
    "    stat90_17[\"Player\"] = stat90_17[\"Player\"].str.rstrip('*')\n",
    "    # Reset index\n",
    "    stat90_17.reset_index(drop=True, inplace=True) # Drop the old index (rather than adding it as a col)\n",
    "    return stat90_17"
   ]
  },
  {
   "cell_type": "code",
   "execution_count": 39,
   "metadata": {},
   "outputs": [
    {
     "name": "stdout",
     "output_type": "stream",
     "text": [
      "       Season End          Player Pos  Age   Tm  STL  BLK  TOV   PF   PTS\n",
      "0            1990      Mark Acres   C   27  ORL   36   25   70  248   362\n",
      "1            1990   Michael Adams  PG   27  DEN  121    3  141  133  1221\n",
      "2            1990    Mark Aguirre  SF   30  DET   34   19  121  201  1099\n",
      "3            1990     Danny Ainge  PG   30  SAC  113   18  185  238  1342\n",
      "4            1990     Mark Alarie  PF   26  WSB   60   39  101  219   860\n",
      "10208        2017  Thaddeus Young  PF   28  IND  114   30   96  135   814\n",
      "10209        2017     Cody Zeller  PF   24  CHO   62   58   65  189   639\n",
      "10210        2017    Tyler Zeller   C   27  BOS    7   21   20   61   178\n",
      "10211        2017     Paul Zipser  SF   22  CHI   15   16   40   78   240\n",
      "10212        2017     Ivica Zubac   C   19  LAL   14   33   30   66   284\n"
     ]
    }
   ],
   "source": [
    "cols_to_int = ['Year', 'Age', 'G', 'GS', 'MP', 'FG', 'FGA', '3P', '3PA', '2P', '2PA', 'FT', 'FTA',\n",
    "              'ORB', 'DRB', 'TRB', 'AST', 'STL', 'BLK', 'TOV', 'PF', 'PTS'] \n",
    "type_conv = dict.fromkeys(cols_to_int, int)\n",
    "stat90_17 = format_stats_50_17(stat50_17, type_conv)\n",
    "# Rename Year col to Season End for clarity\n",
    "stat90_17.rename(columns={\"Year\": \"Season End\"}, inplace=True) \n",
    "# Show first and last 5 rows and columns\n",
    "# iloc[row_idx_list, col_idx_list]\n",
    "print(stat90_17.iloc[list(range(5)) + list(range(-5, 0)), \n",
    "                   list(range(5)) + list(range(-5, 0))])"
   ]
  },
  {
   "cell_type": "code",
   "execution_count": 40,
   "metadata": {},
   "outputs": [],
   "source": [
    "out_stats_name = \"nba_stats_1990_2017.csv\"\n",
    "out_stats_path = os.path.join(data_dir, out_stats_name)"
   ]
  },
  {
   "cell_type": "code",
   "execution_count": 41,
   "metadata": {},
   "outputs": [],
   "source": [
    "if not os.path.isfile(out_stats_path): stat90_17.to_csv(out_stats_path, index=False)"
   ]
  },
  {
   "cell_type": "markdown",
   "metadata": {},
   "source": [
    "## Salaries Per Season (1990-2017)"
   ]
  },
  {
   "cell_type": "code",
   "execution_count": 59,
   "metadata": {},
   "outputs": [],
   "source": [
    "sal91_18_file = os.path.join(src_dir, \"nba-player-salary-19902017/Player - Salaries per Year (1990 - 2017).csv\")\n",
    "sal91_18 = pd.read_csv(sal91_18_file, thousands=\",\")"
   ]
  },
  {
   "cell_type": "code",
   "execution_count": 81,
   "metadata": {},
   "outputs": [],
   "source": [
    "def format_sal(sal91_18: pd.DataFrame) -> pd.DataFrame:\n",
    "    \"\"\"\n",
    "    Formats 1991-2018 salaries file. Note that this function modifies sal91_18 to save memory.\n",
    "    In:\n",
    "        sal91_18: DataFrame from 1991-2018 salaries file; modified in-place to save memory.\n",
    "    Return:\n",
    "        Formatted salaries DataFrame.\n",
    "    \"\"\"\n",
    "    # Remove \"Register Value, Team, Full Team Name\" columns\n",
    "    if \"Register Value\" in sal91_18.columns: sal91_18.pop(\"Register Value\")\n",
    "    if \"Team\" in sal91_18.columns: sal91_18.pop(\"Team\")\n",
    "    if \"Full Team Name\" in sal91_18.columns: sal91_18.pop(\"Full Team Name\")\n",
    "    # Rename Salary in $ to Salary\n",
    "    sal91_18.rename(columns={\" Salary in $ \": \"Salary\"}, inplace=True) \n",
    "    # Convert Salary to int\n",
    "    sal91_18['Salary'] = sal91_18['Salary'].str.replace(r'[\\$,]', '').astype(float)\n",
    "    return sal91_18"
   ]
  },
  {
   "cell_type": "code",
   "execution_count": 82,
   "metadata": {},
   "outputs": [
    {
     "name": "stdout",
     "output_type": "stream",
     "text": [
      "  Player Name     Salary  Season Start  Season End\n",
      "0  A.C. Green  1750000.0          1990        1991\n",
      "1  A.C. Green  1750000.0          1991        1992\n",
      "2  A.C. Green  1750000.0          1992        1993\n",
      "3  A.C. Green  1885000.0          1993        1994\n",
      "4  A.C. Green  6472600.0          1994        1995\n",
      "              Player Name      Salary  Season Start  Season End\n",
      "11832  Zydrunas Ilgauskas   8740000.0          2005        2006\n",
      "11833  Zydrunas Ilgauskas   9442697.0          2006        2007\n",
      "11834  Zydrunas Ilgauskas  10142156.0          2007        2008\n",
      "11835  Zydrunas Ilgauskas  10841615.0          2008        2009\n",
      "11836  Zydrunas Ilgauskas  11541074.0          2009        2010\n"
     ]
    }
   ],
   "source": [
    "sal91_18 = format_sal(sal91_18)\n",
    "print(sal91_18.head())\n",
    "print(sal91_18.tail())"
   ]
  },
  {
   "cell_type": "code",
   "execution_count": 84,
   "metadata": {},
   "outputs": [],
   "source": [
    "out_sal_name = \"nba_salaries_1991_2018.csv\"\n",
    "out_sal_path = os.path.join(data_dir, out_sal_name)"
   ]
  },
  {
   "cell_type": "code",
   "execution_count": 85,
   "metadata": {},
   "outputs": [],
   "source": [
    "if not os.path.isfile(out_sal_path): sal91_18.to_csv(out_sal_path, index=False)"
   ]
  },
  {
   "cell_type": "markdown",
   "metadata": {},
   "source": [
    "## Matching Salary Data to Player Data by Year"
   ]
  },
  {
   "cell_type": "code",
   "execution_count": 86,
   "metadata": {},
   "outputs": [],
   "source": [
    "sal91_18_form_file = os.path.join(data_dir, \"nba_salaries_1991_2018.csv\")\n",
    "sal91_18_form = pd.read_csv(sal91_18_form_file)\n",
    "stat90_17_form_file = os.path.join(data_dir, \"nba_stats_1990_2017.csv\")\n",
    "stat90_17_form = pd.read_csv(stat90_17_form_file)"
   ]
  },
  {
   "cell_type": "code",
   "execution_count": null,
   "metadata": {},
   "outputs": [],
   "source": []
  }
 ],
 "metadata": {
  "kernelspec": {
   "display_name": "Python 3",
   "language": "python",
   "name": "python3"
  },
  "language_info": {
   "codemirror_mode": {
    "name": "ipython",
    "version": 3
   },
   "file_extension": ".py",
   "mimetype": "text/x-python",
   "name": "python",
   "nbconvert_exporter": "python",
   "pygments_lexer": "ipython3",
   "version": "3.7.0"
  }
 },
 "nbformat": 4,
 "nbformat_minor": 4
}

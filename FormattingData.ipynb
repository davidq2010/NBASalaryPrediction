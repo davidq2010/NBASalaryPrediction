{
 "cells": [
  {
   "cell_type": "code",
   "execution_count": 84,
   "metadata": {},
   "outputs": [],
   "source": [
    "import pandas as pd\n",
    "import os\n",
    "\n",
    "from typing import Dict, List"
   ]
  },
  {
   "cell_type": "markdown",
   "metadata": {},
   "source": [
    "# Formatting Original Data"
   ]
  },
  {
   "cell_type": "code",
   "execution_count": 89,
   "metadata": {},
   "outputs": [],
   "source": [
    "src_dir = os.getcwd()\n",
    "data_dir = os.path.join(src_dir, \"Data\")\n",
    "os.makedirs(data_dir, exist_ok=True)  # Make directory if it doesn't exist"
   ]
  },
  {
   "cell_type": "markdown",
   "metadata": {},
   "source": [
    "## nba-players-stats/Seasons_Stats.csv"
   ]
  },
  {
   "cell_type": "code",
   "execution_count": 92,
   "metadata": {},
   "outputs": [
    {
     "data": {
      "text/html": [
       "<div>\n",
       "<style scoped>\n",
       "    .dataframe tbody tr th:only-of-type {\n",
       "        vertical-align: middle;\n",
       "    }\n",
       "\n",
       "    .dataframe tbody tr th {\n",
       "        vertical-align: top;\n",
       "    }\n",
       "\n",
       "    .dataframe thead th {\n",
       "        text-align: right;\n",
       "    }\n",
       "</style>\n",
       "<table border=\"1\" class=\"dataframe\">\n",
       "  <thead>\n",
       "    <tr style=\"text-align: right;\">\n",
       "      <th></th>\n",
       "      <th>Year</th>\n",
       "      <th>Player</th>\n",
       "      <th>Pos</th>\n",
       "      <th>Age</th>\n",
       "      <th>Tm</th>\n",
       "      <th>G</th>\n",
       "      <th>GS</th>\n",
       "      <th>MP</th>\n",
       "      <th>PER</th>\n",
       "      <th>TS%</th>\n",
       "      <th>...</th>\n",
       "      <th>FT%</th>\n",
       "      <th>ORB</th>\n",
       "      <th>DRB</th>\n",
       "      <th>TRB</th>\n",
       "      <th>AST</th>\n",
       "      <th>STL</th>\n",
       "      <th>BLK</th>\n",
       "      <th>TOV</th>\n",
       "      <th>PF</th>\n",
       "      <th>PTS</th>\n",
       "    </tr>\n",
       "  </thead>\n",
       "  <tbody>\n",
       "    <tr>\n",
       "      <th>0</th>\n",
       "      <td>1950</td>\n",
       "      <td>Curly Armstrong</td>\n",
       "      <td>G-F</td>\n",
       "      <td>31</td>\n",
       "      <td>FTW</td>\n",
       "      <td>63</td>\n",
       "      <td>&lt;NA&gt;</td>\n",
       "      <td>&lt;NA&gt;</td>\n",
       "      <td>NaN</td>\n",
       "      <td>0.368</td>\n",
       "      <td>...</td>\n",
       "      <td>0.705</td>\n",
       "      <td>&lt;NA&gt;</td>\n",
       "      <td>&lt;NA&gt;</td>\n",
       "      <td>&lt;NA&gt;</td>\n",
       "      <td>176</td>\n",
       "      <td>&lt;NA&gt;</td>\n",
       "      <td>&lt;NA&gt;</td>\n",
       "      <td>&lt;NA&gt;</td>\n",
       "      <td>217</td>\n",
       "      <td>458</td>\n",
       "    </tr>\n",
       "    <tr>\n",
       "      <th>1</th>\n",
       "      <td>1950</td>\n",
       "      <td>Cliff Barker</td>\n",
       "      <td>SG</td>\n",
       "      <td>29</td>\n",
       "      <td>INO</td>\n",
       "      <td>49</td>\n",
       "      <td>&lt;NA&gt;</td>\n",
       "      <td>&lt;NA&gt;</td>\n",
       "      <td>NaN</td>\n",
       "      <td>0.435</td>\n",
       "      <td>...</td>\n",
       "      <td>0.708</td>\n",
       "      <td>&lt;NA&gt;</td>\n",
       "      <td>&lt;NA&gt;</td>\n",
       "      <td>&lt;NA&gt;</td>\n",
       "      <td>109</td>\n",
       "      <td>&lt;NA&gt;</td>\n",
       "      <td>&lt;NA&gt;</td>\n",
       "      <td>&lt;NA&gt;</td>\n",
       "      <td>99</td>\n",
       "      <td>279</td>\n",
       "    </tr>\n",
       "    <tr>\n",
       "      <th>2</th>\n",
       "      <td>1950</td>\n",
       "      <td>Leo Barnhorst</td>\n",
       "      <td>SF</td>\n",
       "      <td>25</td>\n",
       "      <td>CHS</td>\n",
       "      <td>67</td>\n",
       "      <td>&lt;NA&gt;</td>\n",
       "      <td>&lt;NA&gt;</td>\n",
       "      <td>NaN</td>\n",
       "      <td>0.394</td>\n",
       "      <td>...</td>\n",
       "      <td>0.698</td>\n",
       "      <td>&lt;NA&gt;</td>\n",
       "      <td>&lt;NA&gt;</td>\n",
       "      <td>&lt;NA&gt;</td>\n",
       "      <td>140</td>\n",
       "      <td>&lt;NA&gt;</td>\n",
       "      <td>&lt;NA&gt;</td>\n",
       "      <td>&lt;NA&gt;</td>\n",
       "      <td>192</td>\n",
       "      <td>438</td>\n",
       "    </tr>\n",
       "    <tr>\n",
       "      <th>3</th>\n",
       "      <td>1950</td>\n",
       "      <td>Ed Bartels</td>\n",
       "      <td>F</td>\n",
       "      <td>24</td>\n",
       "      <td>TOT</td>\n",
       "      <td>15</td>\n",
       "      <td>&lt;NA&gt;</td>\n",
       "      <td>&lt;NA&gt;</td>\n",
       "      <td>NaN</td>\n",
       "      <td>0.312</td>\n",
       "      <td>...</td>\n",
       "      <td>0.559</td>\n",
       "      <td>&lt;NA&gt;</td>\n",
       "      <td>&lt;NA&gt;</td>\n",
       "      <td>&lt;NA&gt;</td>\n",
       "      <td>20</td>\n",
       "      <td>&lt;NA&gt;</td>\n",
       "      <td>&lt;NA&gt;</td>\n",
       "      <td>&lt;NA&gt;</td>\n",
       "      <td>29</td>\n",
       "      <td>63</td>\n",
       "    </tr>\n",
       "    <tr>\n",
       "      <th>4</th>\n",
       "      <td>1950</td>\n",
       "      <td>Ed Bartels</td>\n",
       "      <td>F</td>\n",
       "      <td>24</td>\n",
       "      <td>DNN</td>\n",
       "      <td>13</td>\n",
       "      <td>&lt;NA&gt;</td>\n",
       "      <td>&lt;NA&gt;</td>\n",
       "      <td>NaN</td>\n",
       "      <td>0.308</td>\n",
       "      <td>...</td>\n",
       "      <td>0.548</td>\n",
       "      <td>&lt;NA&gt;</td>\n",
       "      <td>&lt;NA&gt;</td>\n",
       "      <td>&lt;NA&gt;</td>\n",
       "      <td>20</td>\n",
       "      <td>&lt;NA&gt;</td>\n",
       "      <td>&lt;NA&gt;</td>\n",
       "      <td>&lt;NA&gt;</td>\n",
       "      <td>27</td>\n",
       "      <td>59</td>\n",
       "    </tr>\n",
       "  </tbody>\n",
       "</table>\n",
       "<p>5 rows × 52 columns</p>\n",
       "</div>"
      ],
      "text/plain": [
       "   Year           Player  Pos  Age   Tm   G    GS    MP  PER    TS%  ...  \\\n",
       "0  1950  Curly Armstrong  G-F   31  FTW  63  <NA>  <NA>  NaN  0.368  ...   \n",
       "1  1950     Cliff Barker   SG   29  INO  49  <NA>  <NA>  NaN  0.435  ...   \n",
       "2  1950    Leo Barnhorst   SF   25  CHS  67  <NA>  <NA>  NaN  0.394  ...   \n",
       "3  1950       Ed Bartels    F   24  TOT  15  <NA>  <NA>  NaN  0.312  ...   \n",
       "4  1950       Ed Bartels    F   24  DNN  13  <NA>  <NA>  NaN  0.308  ...   \n",
       "\n",
       "     FT%   ORB   DRB   TRB  AST   STL   BLK   TOV   PF  PTS  \n",
       "0  0.705  <NA>  <NA>  <NA>  176  <NA>  <NA>  <NA>  217  458  \n",
       "1  0.708  <NA>  <NA>  <NA>  109  <NA>  <NA>  <NA>   99  279  \n",
       "2  0.698  <NA>  <NA>  <NA>  140  <NA>  <NA>  <NA>  192  438  \n",
       "3  0.559  <NA>  <NA>  <NA>   20  <NA>  <NA>  <NA>   29   63  \n",
       "4  0.548  <NA>  <NA>  <NA>   20  <NA>  <NA>  <NA>   27   59  \n",
       "\n",
       "[5 rows x 52 columns]"
      ]
     },
     "execution_count": 92,
     "metadata": {},
     "output_type": "execute_result"
    }
   ],
   "source": [
    "stat_50_17_file = os.path.join(src_dir, \"nba-players-stats/Seasons_Stats.csv\")\n",
    "# Can do this because:\n",
    "# https://pandas.pydata.org/pandas-docs/version/0.24/whatsnew/v0.24.0.html#optional-integer-na-support\n",
    "cols_to_int = ['Year', 'Age', 'G', 'GS', 'MP', 'FG', 'FGA', '3P', '3PA', '2P', '2PA', 'FT', 'FTA',\n",
    "              'ORB', 'DRB', 'TRB', 'AST', 'STL', 'BLK', 'TOV', 'PF', 'PTS'] \n",
    "type_conv = dict.fromkeys(cols_to_int, 'Int64')\n",
    "stat50_17 = pd.read_csv(stat_50_17_file, index_col=0, dtype=type_conv)\n",
    "stat50_17.head()"
   ]
  },
  {
   "cell_type": "code",
   "execution_count": 81,
   "metadata": {},
   "outputs": [],
   "source": [
    "def format_stats_50_17(stats: pd.DataFrame, fill_dict: List) -> pd.DataFrame:\n",
    "    \"\"\"\n",
    "    Formats 1950-2017 stats file. Note that this function modifies stats to save memory.\n",
    "    In:\n",
    "        type_conv: Dict containing column names to convert to int.\n",
    "    Return: \n",
    "        DataFrame from 1990-2017 (season ends); modified in-place to save memory/\n",
    "    \"\"\"\n",
    "    # Drop NA columns; \n",
    "    stats.dropna(axis=1, how='all', inplace=True)\n",
    "    # For players who had multiple teams for a year, keep the TOTAL row\n",
    "    stats.drop_duplicates(subset=[\"Year\", \"Player\"], inplace=True)\n",
    "    # Fill NAs with 0s for certain columns\n",
    "    stats.fillna(fill_dict, inplace=True)\n",
    "    # Drop NA rows\n",
    "    stats.dropna(inplace=True)  # Defaults: axis=0, how='any'\n",
    "    # Drop rows prior to 1990 (our salary data is from 1991 onwards)\n",
    "    stats.drop(stats[stats[\"Year\"] < 1990].index, inplace=True)\n",
    "    # Remove asterisks from HOF players\n",
    "    stats[\"Player\"] = stats[\"Player\"].str.rstrip('*')\n",
    "    # Reset index\n",
    "    stats.reset_index(drop=True, inplace=True) # Drop the old index (rather than adding it as a col)\n",
    "    return stats"
   ]
  },
  {
   "cell_type": "code",
   "execution_count": 82,
   "metadata": {},
   "outputs": [
    {
     "name": "stdout",
     "output_type": "stream",
     "text": [
      "       Season End             Player Pos  Age   Tm  STL  BLK  TOV   PF   PTS\n",
      "0            1990         Mark Acres   C   27  ORL   36   25   70  248   362\n",
      "1            1990      Michael Adams  PG   27  DEN  121    3  141  133  1221\n",
      "2            1990       Mark Aguirre  SF   30  DET   34   19  121  201  1099\n",
      "3            1990        Danny Ainge  PG   30  SAC  113   18  185  238  1342\n",
      "4            1990        Mark Alarie  PF   26  WSB   60   39  101  219   860\n",
      "12292        2017        Cody Zeller  PF   24  CHO   62   58   65  189   639\n",
      "12293        2017       Tyler Zeller   C   27  BOS    7   21   20   61   178\n",
      "12294        2017  Stephen Zimmerman   C   20  ORL    2    5    3   17    23\n",
      "12295        2017        Paul Zipser  SF   22  CHI   15   16   40   78   240\n",
      "12296        2017        Ivica Zubac   C   19  LAL   14   33   30   66   284\n"
     ]
    }
   ],
   "source": [
    "cols_to_fill = ['FG%', '3P%', '2P%', 'eFG%', 'FT%']\n",
    "fill_dict = dict.fromkeys(cols_to_fill, 0.0)\n",
    "stat90_17 = format_stats_50_17(stat50_17, fill_dict)\n",
    "# Rename Year col to Season End for clarity\n",
    "stat90_17.rename(columns={\"Year\": \"Season End\"}, inplace=True) \n",
    "# Show first and last 5 rows and columns\n",
    "# iloc[row_idx_list, col_idx_list]\n",
    "print(stat90_17.iloc[list(range(5)) + list(range(-5, 0)), \n",
    "                   list(range(5)) + list(range(-5, 0))])"
   ]
  },
  {
   "cell_type": "code",
   "execution_count": 63,
   "metadata": {},
   "outputs": [],
   "source": [
    "out_stats_name = \"nba_stats_1990_2017.csv\"\n",
    "out_stats_path = os.path.join(data_dir, out_stats_name)"
   ]
  },
  {
   "cell_type": "code",
   "execution_count": 64,
   "metadata": {},
   "outputs": [],
   "source": [
    "if not os.path.isfile(out_stats_path): stat90_17.to_csv(out_stats_path, index=False)"
   ]
  },
  {
   "cell_type": "markdown",
   "metadata": {},
   "source": [
    "## Salaries Per Season (1990-2017)"
   ]
  },
  {
   "cell_type": "code",
   "execution_count": 93,
   "metadata": {},
   "outputs": [
    {
     "data": {
      "text/html": [
       "<div>\n",
       "<style scoped>\n",
       "    .dataframe tbody tr th:only-of-type {\n",
       "        vertical-align: middle;\n",
       "    }\n",
       "\n",
       "    .dataframe tbody tr th {\n",
       "        vertical-align: top;\n",
       "    }\n",
       "\n",
       "    .dataframe thead th {\n",
       "        text-align: right;\n",
       "    }\n",
       "</style>\n",
       "<table border=\"1\" class=\"dataframe\">\n",
       "  <thead>\n",
       "    <tr style=\"text-align: right;\">\n",
       "      <th></th>\n",
       "      <th>Season</th>\n",
       "      <th>Player</th>\n",
       "      <th>Salary</th>\n",
       "    </tr>\n",
       "  </thead>\n",
       "  <tbody>\n",
       "    <tr>\n",
       "      <th>0</th>\n",
       "      <td>2017-18</td>\n",
       "      <td>Kent Bazemore</td>\n",
       "      <td>16910113.0</td>\n",
       "    </tr>\n",
       "    <tr>\n",
       "      <th>1</th>\n",
       "      <td>2017-18</td>\n",
       "      <td>Dennis Schroder</td>\n",
       "      <td>15500000.0</td>\n",
       "    </tr>\n",
       "    <tr>\n",
       "      <th>2</th>\n",
       "      <td>2017-18</td>\n",
       "      <td>Miles Plumlee</td>\n",
       "      <td>12500000.0</td>\n",
       "    </tr>\n",
       "    <tr>\n",
       "      <th>3</th>\n",
       "      <td>2017-18</td>\n",
       "      <td>Jamal Crawford</td>\n",
       "      <td>10942762.0</td>\n",
       "    </tr>\n",
       "    <tr>\n",
       "      <th>4</th>\n",
       "      <td>2017-18</td>\n",
       "      <td>Marco Belinelli</td>\n",
       "      <td>6306060.0</td>\n",
       "    </tr>\n",
       "    <tr>\n",
       "      <th>...</th>\n",
       "      <td>...</td>\n",
       "      <td>...</td>\n",
       "      <td>...</td>\n",
       "    </tr>\n",
       "    <tr>\n",
       "      <th>13292</th>\n",
       "      <td>1990-91</td>\n",
       "      <td>Harvey Grant</td>\n",
       "      <td>475000.0</td>\n",
       "    </tr>\n",
       "    <tr>\n",
       "      <th>13293</th>\n",
       "      <td>1990-91</td>\n",
       "      <td>Byron Irvin</td>\n",
       "      <td>375000.0</td>\n",
       "    </tr>\n",
       "    <tr>\n",
       "      <th>13294</th>\n",
       "      <td>1990-91</td>\n",
       "      <td>A.J. English</td>\n",
       "      <td>275000.0</td>\n",
       "    </tr>\n",
       "    <tr>\n",
       "      <th>13295</th>\n",
       "      <td>1990-91</td>\n",
       "      <td>Greg Foster</td>\n",
       "      <td>275000.0</td>\n",
       "    </tr>\n",
       "    <tr>\n",
       "      <th>13296</th>\n",
       "      <td>1990-91</td>\n",
       "      <td>Haywoode Workman</td>\n",
       "      <td>120000.0</td>\n",
       "    </tr>\n",
       "  </tbody>\n",
       "</table>\n",
       "<p>13297 rows × 3 columns</p>\n",
       "</div>"
      ],
      "text/plain": [
       "        Season            Player      Salary\n",
       "0      2017-18     Kent Bazemore  16910113.0\n",
       "1      2017-18   Dennis Schroder  15500000.0\n",
       "2      2017-18     Miles Plumlee  12500000.0\n",
       "3      2017-18    Jamal Crawford  10942762.0\n",
       "4      2017-18   Marco Belinelli   6306060.0\n",
       "...        ...               ...         ...\n",
       "13292  1990-91      Harvey Grant    475000.0\n",
       "13293  1990-91       Byron Irvin    375000.0\n",
       "13294  1990-91      A.J. English    275000.0\n",
       "13295  1990-91       Greg Foster    275000.0\n",
       "13296  1990-91  Haywoode Workman    120000.0\n",
       "\n",
       "[13297 rows x 3 columns]"
      ]
     },
     "execution_count": 93,
     "metadata": {},
     "output_type": "execute_result"
    }
   ],
   "source": [
    "sal91_18_file = os.path.join(src_dir, \"NBA_Salary_History/NBA_Salary_History.csv\")\n",
    "# Don't care about team column\n",
    "sal91_18 = pd.read_csv(sal91_18_file, usecols=[\"Season\", \"Player\", \"Salary\"], \n",
    "                       na_values = ['Unknown'])\n",
    "sal91_18"
   ]
  },
  {
   "cell_type": "code",
   "execution_count": 66,
   "metadata": {},
   "outputs": [],
   "source": [
    "def format_sal(sal91_18: pd.DataFrame) -> pd.DataFrame:\n",
    "    \"\"\"\n",
    "    Formats 1991-2018 salaries file. Note that this function modifies sal91_18 to save memory.\n",
    "    In:\n",
    "        sal91_18: DataFrame from 1991-2018 salaries file; modified in-place to save memory.\n",
    "    Return:\n",
    "        Formatted salaries DataFrame.\n",
    "    \"\"\"\n",
    "    # Drop NA rows\n",
    "    sal91_18.dropna(inplace=True)  # Defaults: axis=0, how='any'\n",
    "    # Rename Season to Season Start\n",
    "    sal91_18.rename(columns={\"Season\": \"Season Start\"}, inplace=True)\n",
    "    # Strip -YY from Season Start years\n",
    "    sal91_18['Season Start'] = sal91_18['Season Start'].str.replace(r'-(.*)$', '').astype(int)\n",
    "    # Add Season End column; have to unpack the dictionary for assign\n",
    "    sal91_18 = sal91_18.assign(**{'Season End': (lambda x: x['Season Start'] + 1)})\n",
    "    sal91_18['Salary'] = sal91_18['Salary'].astype(int)\n",
    "    return sal91_18"
   ]
  },
  {
   "cell_type": "code",
   "execution_count": 67,
   "metadata": {},
   "outputs": [
    {
     "name": "stdout",
     "output_type": "stream",
     "text": [
      "   Season Start           Player    Salary  Season End\n",
      "0          2017    Kent Bazemore  16910113        2018\n",
      "1          2017  Dennis Schroder  15500000        2018\n",
      "2          2017    Miles Plumlee  12500000        2018\n",
      "3          2017   Jamal Crawford  10942762        2018\n",
      "4          2017  Marco Belinelli   6306060        2018\n",
      "       Season Start            Player  Salary  Season End\n",
      "13292          1990      Harvey Grant  475000        1991\n",
      "13293          1990       Byron Irvin  375000        1991\n",
      "13294          1990      A.J. English  275000        1991\n",
      "13295          1990       Greg Foster  275000        1991\n",
      "13296          1990  Haywoode Workman  120000        1991\n"
     ]
    }
   ],
   "source": [
    "sal91_18 = format_sal(sal91_18)\n",
    "print(sal91_18.head())\n",
    "print(sal91_18.tail())"
   ]
  },
  {
   "cell_type": "code",
   "execution_count": 68,
   "metadata": {},
   "outputs": [
    {
     "data": {
      "text/plain": [
       "Season Start     int64\n",
       "Player          object\n",
       "Salary           int64\n",
       "Season End       int64\n",
       "dtype: object"
      ]
     },
     "execution_count": 68,
     "metadata": {},
     "output_type": "execute_result"
    }
   ],
   "source": [
    "sal91_18.dtypes"
   ]
  },
  {
   "cell_type": "code",
   "execution_count": 69,
   "metadata": {},
   "outputs": [],
   "source": [
    "out_sal_name = \"nba_salaries_1991_2018.csv\"\n",
    "out_sal_path = os.path.join(data_dir, out_sal_name)"
   ]
  },
  {
   "cell_type": "code",
   "execution_count": 70,
   "metadata": {},
   "outputs": [],
   "source": [
    "if not os.path.isfile(out_sal_path): sal91_18.to_csv(out_sal_path, index=False)"
   ]
  },
  {
   "cell_type": "markdown",
   "metadata": {},
   "source": [
    "## Matching Salary Data to Player Data by Year"
   ]
  },
  {
   "cell_type": "code",
   "execution_count": 71,
   "metadata": {},
   "outputs": [],
   "source": [
    "sal91_18_form_file = os.path.join(data_dir, \"nba_salaries_1991_2018.csv\")\n",
    "sal91_18_form = pd.read_csv(sal91_18_form_file)\n",
    "stat90_17_form_file = os.path.join(data_dir, \"nba_stats_1990_2017.csv\")\n",
    "stat90_17_form = pd.read_csv(stat90_17_form_file)"
   ]
  },
  {
   "cell_type": "code",
   "execution_count": 72,
   "metadata": {},
   "outputs": [],
   "source": [
    "merged = pd.merge(stat90_17_form, sal91_18_form[[\"Player\", \"Season Start\", \"Salary\"]], \n",
    "                  how='inner', \n",
    "                  left_on=['Player', 'Season End'], \n",
    "                  right_on=['Player', 'Season Start'])\n",
    "if \"Season Start\" in merged.columns: merged.pop(\"Season Start\")"
   ]
  },
  {
   "cell_type": "code",
   "execution_count": 73,
   "metadata": {},
   "outputs": [
    {
     "name": "stdout",
     "output_type": "stream",
     "text": [
      "       Season End             Player Pos  Age   Tm  BLK  TOV   PF   PTS  \\\n",
      "0            1990         Mark Acres   C   27  ORL   25   70  248   362   \n",
      "1            1990      Michael Adams  PG   27  DEN    3  141  133  1221   \n",
      "2            1990       Mark Aguirre  SF   30  DET   19  121  201  1099   \n",
      "3            1990        Danny Ainge  PG   30  SAC   18  185  238  1342   \n",
      "4            1990        Mark Alarie  PF   26  WSB   39  101  219   860   \n",
      "10639        2017        Cody Zeller  PF   24  CHO   58   65  189   639   \n",
      "10640        2017       Tyler Zeller   C   27  BOS   21   20   61   178   \n",
      "10641        2017  Stephen Zimmerman   C   20  ORL    5    3   17    23   \n",
      "10642        2017        Paul Zipser  SF   22  CHI   16   40   78   240   \n",
      "10643        2017        Ivica Zubac   C   19  LAL   33   30   66   284   \n",
      "\n",
      "         Salary  \n",
      "0        437000  \n",
      "1        825000  \n",
      "2       1115000  \n",
      "3        725000  \n",
      "4        500000  \n",
      "10639  12584270  \n",
      "10640   1709538  \n",
      "10641   1312611  \n",
      "10642   1312611  \n",
      "10643   1312611  \n"
     ]
    }
   ],
   "source": [
    "print(merged.iloc[list(range(5)) + list(range(-5, 0)), \n",
    "                   list(range(5)) + list(range(-5, 0))])"
   ]
  },
  {
   "cell_type": "code",
   "execution_count": 74,
   "metadata": {},
   "outputs": [
    {
     "data": {
      "text/plain": [
       "Season End      int64\n",
       "Player         object\n",
       "Pos            object\n",
       "Age             int64\n",
       "Tm             object\n",
       "G               int64\n",
       "GS              int64\n",
       "MP              int64\n",
       "PER           float64\n",
       "TS%           float64\n",
       "3PAr          float64\n",
       "FTr           float64\n",
       "ORB%          float64\n",
       "DRB%          float64\n",
       "TRB%          float64\n",
       "AST%          float64\n",
       "STL%          float64\n",
       "BLK%          float64\n",
       "TOV%          float64\n",
       "USG%          float64\n",
       "OWS           float64\n",
       "DWS           float64\n",
       "WS            float64\n",
       "WS/48         float64\n",
       "OBPM          float64\n",
       "DBPM          float64\n",
       "BPM           float64\n",
       "VORP          float64\n",
       "FG              int64\n",
       "FGA             int64\n",
       "FG%           float64\n",
       "3P              int64\n",
       "3PA             int64\n",
       "3P%           float64\n",
       "2P              int64\n",
       "2PA             int64\n",
       "2P%           float64\n",
       "eFG%          float64\n",
       "FT              int64\n",
       "FTA             int64\n",
       "FT%           float64\n",
       "ORB             int64\n",
       "DRB             int64\n",
       "TRB             int64\n",
       "AST             int64\n",
       "STL             int64\n",
       "BLK             int64\n",
       "TOV             int64\n",
       "PF              int64\n",
       "PTS             int64\n",
       "Salary          int64\n",
       "dtype: object"
      ]
     },
     "execution_count": 74,
     "metadata": {},
     "output_type": "execute_result"
    }
   ],
   "source": [
    "merged.dtypes"
   ]
  },
  {
   "cell_type": "code",
   "execution_count": 75,
   "metadata": {},
   "outputs": [],
   "source": [
    "out_merged_name = \"nba_stats_sal_merged_1990_2017.csv\"\n",
    "out_merged_path = os.path.join(data_dir, out_merged_name)"
   ]
  },
  {
   "cell_type": "code",
   "execution_count": 76,
   "metadata": {},
   "outputs": [],
   "source": [
    "if not os.path.isfile(out_merged_path): merged.to_csv(out_merged_path, index=False)"
   ]
  },
  {
   "cell_type": "code",
   "execution_count": null,
   "metadata": {},
   "outputs": [],
   "source": []
  }
 ],
 "metadata": {
  "kernelspec": {
   "display_name": "Python 3",
   "language": "python",
   "name": "python3"
  },
  "language_info": {
   "codemirror_mode": {
    "name": "ipython",
    "version": 3
   },
   "file_extension": ".py",
   "mimetype": "text/x-python",
   "name": "python",
   "nbconvert_exporter": "python",
   "pygments_lexer": "ipython3",
   "version": "3.7.0"
  }
 },
 "nbformat": 4,
 "nbformat_minor": 4
}
